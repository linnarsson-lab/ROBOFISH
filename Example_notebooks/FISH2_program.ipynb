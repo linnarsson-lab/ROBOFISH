{
 "cells": [
  {
   "cell_type": "markdown",
   "metadata": {},
   "source": [
    "# Setup system"
   ]
  },
  {
   "cell_type": "markdown",
   "metadata": {},
   "source": [
    "### Imports"
   ]
  },
  {
   "cell_type": "code",
   "execution_count": null,
   "metadata": {},
   "outputs": [],
   "source": [
    "import FISH2_functions"
   ]
  },
  {
   "cell_type": "markdown",
   "metadata": {},
   "source": [
    "### Find machine address"
   ]
  },
  {
   "cell_type": "code",
   "execution_count": null,
   "metadata": {},
   "outputs": [],
   "source": [
    "FISH2_functions.find_address(identifier=None)"
   ]
  },
  {
   "cell_type": "markdown",
   "metadata": {},
   "source": [
    "# Initiate system"
   ]
  },
  {
   "cell_type": "code",
   "execution_count": 1,
   "metadata": {
    "ExecuteTime": {
     "end_time": "2019-06-06T13:58:38.922199Z",
     "start_time": "2019-06-06T13:57:48.430514Z"
    }
   },
   "outputs": [
    {
     "name": "stderr",
     "output_type": "stream",
     "text": [
      "System name: ROBOFISH2\n",
      "Path to database: FISH_database\\FISH_System2_db.sqlite\n",
      "Path to imaging_output_folder: C:\\Users\\BL\\Desktop\\ROBOFISH_next\\test\n",
      "Path to start_imaging_file_path: C:\\Users\\BL\\Desktop\\ROBOFISH_next\\FISH_database\\start_imaging_file.txt\n"
     ]
    },
    {
     "name": "stdout",
     "output_type": "stream",
     "text": [
      "Module ThermoCube not found. Ignore if machine is not in use\n",
      "Module YoctoThermisto_FISH not found. Ignore if machine is not in use\n",
      "Logger created. path:  log_files/2020-06-22 17-58-56_ROBOFISH2.log\n",
      "FISH_database\\FISH_System2_db.sqlite\n"
     ]
    },
    {
     "name": "stdin",
     "output_type": "stream",
     "text": [
      "\n",
      "Press Enter if:\n",
      "            * Flowcell(s) is placed in stage and connected.\n",
      "            * Heating/cooling cables are connected.\n",
      "            * All buffers are in the correct position and connected.\n",
      "            * System is connected.\n",
      "            * Valves are open.\n",
      "            * Datafile is committed to the database using the user program.\n",
      "            * Optional temperature sensor is connected.\n",
      " \n"
     ]
    },
    {
     "name": "stderr",
     "output_type": "stream",
     "text": [
      "User confirmed system is ready for operation.\n",
      "Retrieving data from database.\n",
      "Successful retrieved data from database.\n",
      "Connecting and initiating hardware.\n",
      "    Finding device addresses.\n",
      "    MXValve1 Initialized.\n",
      "    MXValve2 Initialized.\n",
      "        ThermoCube1 not connected according to user. Ignore if not needed.\n",
      "        ThermoCube2 not connected according to user. Ignore if not needed.\n"
     ]
    },
    {
     "name": "stdout",
     "output_type": "stream",
     "text": [
      "Warning! No USB port information or serial identification code present for: CavroXCalibur add either to the Fixed_USB_port or Machine_identification table using the user program. Ignore if machine has its own identification method.\n",
      "COM6\n"
     ]
    },
    {
     "name": "stderr",
     "output_type": "stream",
     "text": [
      "    TC720 Initialized.\n",
      "        YcotoThermistor not connected according to user. Ignore if not needed.\n",
      "        CavroXE1000 not connected according to user. Ignore if not needed.\n",
      "    Connecting with CavroXCalibur\n",
      "    Established connection with CavroXCalibur.\n",
      "    Initiating CavroXCalibur.\n",
      "    CavroXCalibur initiated.\n",
      "    Connected devices: ['MXValve1', 'MXValve2', 'TC720', 'CavroXCalibur']\n",
      "\n"
     ]
    },
    {
     "name": "stdout",
     "output_type": "stream",
     "text": [
      "Active machine: MXValve1\n",
      "Active machine: MXValve2\n",
      "Active machine: CavroXCalibur\n",
      "Active machine: TC720\n"
     ]
    },
    {
     "name": "stderr",
     "output_type": "stream",
     "text": [
      "Start parameters:\n",
      "Operator: lars\n",
      "Machine: ROBOFISH2\n",
      "EXP_number_1: Test1\n",
      "Start_date_1: 20200616\n",
      "Chamber_EXP_1: Chamber1\n",
      "Hyb_time_1_A: 0.08\n",
      "Hyb_time_1_B: None\n",
      "Hyb_time_1_C: None\n",
      "Target_cycles_1: 6\n",
      "Species_1: None\n",
      "Sample_1: None\n",
      "Strain_1: None\n",
      "Age_1: None\n",
      "Tissue_1: None\n",
      "RegionImaged_1: None\n",
      "SectionID_1: None\n",
      "StitchingChannel_1: None\n",
      "Overlapping_percentage_1: None\n",
      "roi_1: [[0, 0]]\n",
      "EXP_number_2: None\n",
      "Start_date_2: None\n",
      "Chamber_EXP_2: None\n",
      "Hyb_time_2_A: 4.0\n",
      "Hyb_time_2_B: 2.0\n",
      "Hyb_time_2_C: 2.0\n",
      "Target_cycles_2: None\n",
      "Species_2: None\n",
      "Sample_2: None\n",
      "Strain_2: None\n",
      "Age_2: None\n",
      "Tissue_2: None\n",
      "RegionImaged_2: None\n",
      "SectionID_2: None\n",
      "StitchingChannel_2: None\n",
      "Overlapping_percentage_2: None\n",
      "roi_2: [[0, 0]]\n",
      "Program: None\n",
      "Hybmix_volume: 500\n",
      "Staining_temperature: 37.0\n",
      "Readout_temperature: 22.0\n",
      "Heatshock_temperature: 22.0\n",
      "Stripping_temperature: 22.0\n",
      "Imaging_temperature: 22.0\n",
      "\n",
      "Ports:\n",
      "RunningBuffer: SSC2X\n",
      "P1: None\n",
      "P2: WB\n",
      "P3: Chamber1\n",
      "P4: Waste\n",
      "P5: SB\n",
      "P6: IB\n",
      "P7: Valve2\n",
      "P8: None\n",
      "P9: None\n",
      "P10: None\n",
      "P11: HYB01\n",
      "P12: HYB02\n",
      "P13: HYB03\n",
      "P14: HYB04\n",
      "P15: HYB05\n",
      "P16: HYB06\n",
      "P17: HYB07\n",
      "P18: HYB08\n",
      "P19: HYB09\n",
      "P20: HYB10\n",
      "\n",
      "Active machines:\n",
      "CavroXE1000: 0\n",
      "CavroXCalibur: 1\n",
      "MXValve1: 1\n",
      "MXValve2: 1\n",
      "Degassi: None\n",
      "ThermoCube1: 0\n",
      "ThermoCube2: 0\n",
      "YoctoThermistor: 0\n",
      "TC720: 1\n",
      "\n",
      "Machine_identification:\n",
      "CavroXE1000: None\n",
      "CavroXCalibur: None\n",
      "MXValve1: A105XW1IA\n",
      "MXValve2: AI040PQVA\n",
      "Degassi: None\n",
      "ThermoCube1: None\n",
      "ThermoCube2: None\n",
      "YoctoThermistor: None\n",
      "TC720: A505CAYZA\n",
      "\n",
      "Fixed_USB_port:\n",
      "CavroXE1000: None\n",
      "CavroXCalibur: None\n",
      "MXValve1: None\n",
      "MXValve2: None\n",
      "Degassi: None\n",
      "ThermoCube1: None\n",
      "ThermoCube2: None\n",
      "YoctoThermistor: None\n",
      "TC720: None\n",
      "\n",
      "Padding:\n",
      "Degass: 150\n",
      "P1: None\n",
      "P2: 250\n",
      "P3: 897\n",
      "P4: None\n",
      "P5: 650\n",
      "P6: 250\n",
      "P7: None\n",
      "P8: None\n",
      "P9: None\n",
      "P10: None\n",
      "P11: 1020\n",
      "P12: 1020\n",
      "P13: 1020\n",
      "P14: 1020\n",
      "P15: 1020\n",
      "P16: 1020\n",
      "P17: 1020\n",
      "P18: 1020\n",
      "P19: 1020\n",
      "P20: 1020\n",
      "\n",
      "____\n",
      "System ready for operation.\n",
      "____\n"
     ]
    }
   ],
   "source": [
    "import FISH2_functions\n",
    "\n",
    "#System specific paths to database that is used to keep track of the experiment data. \n",
    "#database is automatically generated by the \"FISH2_user_program.py\" and prints the path after runing, copy the path to this location \n",
    "db_path = 'FISH_database\\FISH_System2_db.sqlite'\n",
    "\n",
    "#System specific path to start_imaging_file\n",
    "start_imaging_file_path = \"C:\\\\Users\\\\BL\\\\Desktop\\\\ROBOFISH_next\\\\FISH_database\\\\start_imaging_file.txt\"\n",
    "\n",
    "#System specific path to where the microscope saves the images. The info files will be put here.\n",
    "#Use double slashes \"\\\\\" but do not put the trailing slashes! Example \"C:\\\\Folder\\\\subfolder\"\n",
    "imaging_output_folder = \"G:\\\\To_Monod\\\\JJEXP20201119_hGBM_test\"\n",
    "\n",
    "\n",
    "F2 = FISH2_functions.FISH2(db_path, imaging_output_folder, start_imaging_file_path, system_name='ROBOFISH2')"
   ]
  },
  {
   "cell_type": "code",
   "execution_count": 2,
   "metadata": {},
   "outputs": [
    {
     "name": "stdout",
     "output_type": "stream",
     "text": [
      "\n",
      "Checking port RunningBuffer with volume 632442.0\n",
      "    It has a volume\n",
      "\n",
      "Checking port P1 with volume None\n",
      "\n",
      "Checking port P2 with volume 45406.0\n",
      "    It has a volume\n",
      "    Data: port: P2, volume 45406.0, name WB, waste:P4, alert: 20000.0, P2==P4 --> False\n",
      "\n",
      "Checking port P3 with volume None\n",
      "\n",
      "Checking port P4 with volume 623802.0\n",
      "    It has a volume\n",
      "    Data: port: P4, volume 623802.0, name Waste, waste:P4, alert: 5.0, P4==P4 --> True\n",
      "Checking waste: P4==P4,  623802.0 > 5.0\n",
      "\n",
      "Checking port P5 with volume 20000.0\n",
      "    It has a volume\n",
      "    Data: port: P5, volume 20000.0, name SB, waste:P4, alert: 10000.0, P5==P4 --> False\n",
      "\n",
      "Checking port P6 with volume 5350.0\n",
      "    It has a volume\n",
      "    Data: port: P6, volume 5350.0, name IB, waste:P4, alert: 2000.0, P6==P4 --> False\n",
      "\n",
      "Checking port P7 with volume None\n",
      "\n",
      "Checking port P8 with volume None\n",
      "\n",
      "Checking port P9 with volume None\n",
      "\n",
      "Checking port P10 with volume None\n",
      "\n",
      "Checking port P11 with volume None\n",
      "\n",
      "Checking port P12 with volume None\n",
      "\n",
      "Checking port P13 with volume None\n",
      "\n",
      "Checking port P14 with volume None\n",
      "\n",
      "Checking port P15 with volume None\n",
      "\n",
      "Checking port P16 with volume None\n",
      "\n",
      "Checking port P17 with volume None\n",
      "\n",
      "Checking port P18 with volume None\n",
      "\n",
      "Checking port P19 with volume None\n",
      "\n",
      "Checking port P20 with volume None\n",
      "Replace:\n",
      "P4: Waste, current vol: 624ml\n",
      "22-06-2020 17:57:28\n"
     ]
    }
   ],
   "source": [
    "F2.checkBuffer()"
   ]
  },
  {
   "cell_type": "code",
   "execution_count": 7,
   "metadata": {},
   "outputs": [
    {
     "data": {
      "text/plain": [
       "5.0"
      ]
     },
     "execution_count": 7,
     "metadata": {},
     "output_type": "execute_result"
    }
   ],
   "source": [
    "F2.Alert_volume['P4']"
   ]
  },
  {
   "cell_type": "code",
   "execution_count": 4,
   "metadata": {},
   "outputs": [],
   "source": [
    "F2.updateExperimentalParameters(F2.db_path)"
   ]
  },
  {
   "cell_type": "code",
   "execution_count": 3,
   "metadata": {},
   "outputs": [
    {
     "name": "stdout",
     "output_type": "stream",
     "text": [
      "{'RunningBuffer': 633339.0, 'P1': 'None', 'P2': 45656.0, 'P3': 'None', 'P4': 622655.0, 'P5': 20000.0, 'P6': 5350.0, 'P7': 'None', 'P8': 'None', 'P9': 'None', 'P10': 'None', 'P11': 'None', 'P12': 'None', 'P13': 'None', 'P14': 'None', 'P15': 'None', 'P16': 'None', 'P17': 'None', 'P18': 'None', 'P19': 'None', 'P20': 'None'}\n",
      "updating buffer\n",
      "updating buffer\n",
      "Updating waste\n"
     ]
    },
    {
     "name": "stderr",
     "output_type": "stream",
     "text": [
      "    Dispensed 200ul of P2 to Chamber1 with speed 20, padding=True, same_buffer_padding=False, double_volume=False\n"
     ]
    },
    {
     "name": "stdout",
     "output_type": "stream",
     "text": [
      "Replace:\n",
      "P4: Waste, current vol: 624ml\n",
      "22-06-2020 17:31:34\n",
      "{'RunningBuffer': 632442.0, 'P1': 'None', 'P2': 45406.0, 'P3': 'None', 'P4': 623802.0, 'P5': 20000.0, 'P6': 5350.0, 'P7': 'None', 'P8': 'None', 'P9': 'None', 'P10': 'None', 'P11': 'None', 'P12': 'None', 'P13': 'None', 'P14': 'None', 'P15': 'None', 'P16': 'None', 'P17': 'None', 'P18': 'None', 'P19': 'None', 'P20': 'None'}\n"
     ]
    }
   ],
   "source": [
    "print(F2.Volumes)\n",
    "F2.extractDispenseBuffer('P2', 200, 'Chamber1')\n",
    "print(F2.Volumes)"
   ]
  },
  {
   "cell_type": "code",
   "execution_count": 3,
   "metadata": {},
   "outputs": [
    {
     "name": "stdout",
     "output_type": "stream",
     "text": [
      "p,v: RunningBuffer 647806.0\n",
      "name: SSC2X, Alert vol: 800000.0\n",
      "p,v: P1 None\n",
      "p,v: P2 49000.0\n",
      "name: WB, Alert vol: 20000.0\n",
      "p,v: P3 None\n",
      "p,v: P4 603194.0\n",
      "name: Waste, Alert vol: 600000.0\n",
      "p,v: P5 20000.0\n",
      "name: SB, Alert vol: 10000.0\n",
      "p,v: P6 7000.0\n",
      "name: IB, Alert vol: 1500.0\n",
      "p,v: P7 None\n",
      "p,v: P8 None\n",
      "p,v: P9 None\n",
      "p,v: P10 None\n",
      "p,v: P11 None\n",
      "p,v: P12 None\n",
      "p,v: P13 None\n",
      "p,v: P14 None\n",
      "p,v: P15 None\n",
      "p,v: P16 None\n",
      "p,v: P17 None\n",
      "p,v: P18 None\n",
      "p,v: P19 None\n",
      "p,v: P20 None\n",
      "i: ['RunningBuffer', 647806.0]\n",
      "i: ['P4', 603194.0]\n",
      "i[0]: P4\n"
     ]
    },
    {
     "name": "stderr",
     "output_type": "stream",
     "text": [
      "    Dispensed 200ul of P2 to P3 with speed 20, padding=True, same_buffer_padding=False, double_volume=False\n"
     ]
    },
    {
     "name": "stdout",
     "output_type": "stream",
     "text": [
      "Replace:\n",
      "RunningBuffer: RunningBuffer, current vol: 648ml\n",
      "P4: Waste, current vol: 603ml\n",
      "22-06-2020 16:32:34\n",
      "{'RunningBuffer': 647806.0, 'P1': 'None', 'P2': 49000.0, 'P3': 'None', 'P4': 603194.0, 'P5': 20000.0, 'P6': 7000.0, 'P7': 'None', 'P8': 'None', 'P9': 'None', 'P10': 'None', 'P11': 'None', 'P12': 'None', 'P13': 'None', 'P14': 'None', 'P15': 'None', 'P16': 'None', 'P17': 'None', 'P18': 'None', 'P19': 'None', 'P20': 'None'}\n"
     ]
    }
   ],
   "source": [
    "F2.extractDispenseBuffer('P2', 200, 'P3')\n",
    "print(F2.Volumes)"
   ]
  },
  {
   "cell_type": "code",
   "execution_count": 4,
   "metadata": {},
   "outputs": [
    {
     "name": "stdout",
     "output_type": "stream",
     "text": [
      "p,v: RunningBuffer 646909.0\n",
      "name: SSC2X, Alert vol: 800000.0\n",
      "p,v: P1 None\n",
      "p,v: P2 49000.0\n",
      "name: WB, Alert vol: 20000.0\n",
      "p,v: P3 None\n",
      "p,v: P4 604341.0\n",
      "name: Waste, Alert vol: 600000.0\n",
      "p,v: P5 20000.0\n",
      "name: SB, Alert vol: 10000.0\n",
      "p,v: P6 6750.0\n",
      "name: IB, Alert vol: 1500.0\n",
      "p,v: P7 None\n",
      "p,v: P8 None\n",
      "p,v: P9 None\n",
      "p,v: P10 None\n",
      "p,v: P11 None\n",
      "p,v: P12 None\n",
      "p,v: P13 None\n",
      "p,v: P14 None\n",
      "p,v: P15 None\n",
      "p,v: P16 None\n",
      "p,v: P17 None\n",
      "p,v: P18 None\n",
      "p,v: P19 None\n",
      "p,v: P20 None\n",
      "i: ['RunningBuffer', 646909.0]\n",
      "i: ['P4', 604341.0]\n",
      "i[0]: P4\n"
     ]
    },
    {
     "name": "stderr",
     "output_type": "stream",
     "text": [
      "    Dispensed 200ul of IB to Chamber1 with speed 20, padding=True, same_buffer_padding=False, double_volume=False\n"
     ]
    },
    {
     "name": "stdout",
     "output_type": "stream",
     "text": [
      "Replace:\n",
      "RunningBuffer: RunningBuffer, current vol: 647ml\n",
      "P4: Waste, current vol: 604ml\n",
      "22-06-2020 16:33:16\n",
      "{'RunningBuffer': 646909.0, 'P1': 'None', 'P2': 49000.0, 'P3': 'None', 'P4': 604341.0, 'P5': 20000.0, 'P6': 6750.0, 'P7': 'None', 'P8': 'None', 'P9': 'None', 'P10': 'None', 'P11': 'None', 'P12': 'None', 'P13': 'None', 'P14': 'None', 'P15': 'None', 'P16': 'None', 'P17': 'None', 'P18': 'None', 'P19': 'None', 'P20': 'None'}\n"
     ]
    }
   ],
   "source": [
    "F2.extractDispenseBuffer('IB', 200, 'Chamber1')\n",
    "print(F2.Volumes)"
   ]
  },
  {
   "cell_type": "code",
   "execution_count": 9,
   "metadata": {},
   "outputs": [
    {
     "name": "stdout",
     "output_type": "stream",
     "text": [
      "p,v: RunningBuffer 645115.0\n",
      "name: SSC2X, Alert vol: 800000.0\n",
      "p,v: P1 None\n",
      "p,v: P2 49000.0\n",
      "name: None, Alert vol: 20000.0\n",
      "p,v: P3 None\n",
      "p,v: P4 606635.0\n",
      "name: Waste, Alert vol: 600000.0\n",
      "p,v: P5 20000.0\n",
      "name: SB, Alert vol: 10000.0\n",
      "p,v: P6 6250.0\n",
      "name: IB, Alert vol: None\n"
     ]
    },
    {
     "ename": "TypeError",
     "evalue": "'<' not supported between instances of 'float' and 'str'",
     "output_type": "error",
     "traceback": [
      "\u001b[1;31m---------------------------------------------------------------------------\u001b[0m",
      "\u001b[1;31mTypeError\u001b[0m                                 Traceback (most recent call last)",
      "\u001b[1;32m<ipython-input-9-be8bc8a8127e>\u001b[0m in \u001b[0;36m<module>\u001b[1;34m\u001b[0m\n\u001b[1;32m----> 1\u001b[1;33m \u001b[0mF2\u001b[0m\u001b[1;33m.\u001b[0m\u001b[0mextractDispenseBuffer\u001b[0m\u001b[1;33m(\u001b[0m\u001b[1;34m'IB'\u001b[0m\u001b[1;33m,\u001b[0m \u001b[1;36m200\u001b[0m\u001b[1;33m,\u001b[0m \u001b[1;34m'P3'\u001b[0m\u001b[1;33m)\u001b[0m\u001b[1;33m\u001b[0m\u001b[1;33m\u001b[0m\u001b[0m\n\u001b[0m\u001b[0;32m      2\u001b[0m \u001b[0mprint\u001b[0m\u001b[1;33m(\u001b[0m\u001b[0mF2\u001b[0m\u001b[1;33m.\u001b[0m\u001b[0mVolumes\u001b[0m\u001b[1;33m)\u001b[0m\u001b[1;33m\u001b[0m\u001b[1;33m\u001b[0m\u001b[0m\n",
      "\u001b[1;32m~\\Desktop\\ROBOFISH_next\\FISH2_functions.py\u001b[0m in \u001b[0;36mwrapped\u001b[1;34m(self, *args, **kwargs)\u001b[0m\n\u001b[0;32m   1327\u001b[0m             \u001b[1;31m#Execute wrapped function\u001b[0m\u001b[1;33m\u001b[0m\u001b[1;33m\u001b[0m\u001b[1;33m\u001b[0m\u001b[0m\n\u001b[0;32m   1328\u001b[0m             \u001b[0mtic\u001b[0m \u001b[1;33m=\u001b[0m \u001b[0mtime\u001b[0m\u001b[1;33m.\u001b[0m\u001b[0mtime\u001b[0m\u001b[1;33m(\u001b[0m\u001b[1;33m)\u001b[0m\u001b[1;33m\u001b[0m\u001b[1;33m\u001b[0m\u001b[0m\n\u001b[1;32m-> 1329\u001b[1;33m             \u001b[0mr\u001b[0m \u001b[1;33m=\u001b[0m \u001b[0mfunction\u001b[0m\u001b[1;33m(\u001b[0m\u001b[0mself\u001b[0m\u001b[1;33m,\u001b[0m \u001b[1;33m*\u001b[0m\u001b[0margs\u001b[0m\u001b[1;33m,\u001b[0m \u001b[1;33m**\u001b[0m\u001b[0mkwargs\u001b[0m\u001b[1;33m)\u001b[0m\u001b[1;33m\u001b[0m\u001b[1;33m\u001b[0m\u001b[0m\n\u001b[0m\u001b[0;32m   1330\u001b[0m             \u001b[0mtoc\u001b[0m \u001b[1;33m=\u001b[0m \u001b[0mtime\u001b[0m\u001b[1;33m.\u001b[0m\u001b[0mtime\u001b[0m\u001b[1;33m(\u001b[0m\u001b[1;33m)\u001b[0m\u001b[1;33m\u001b[0m\u001b[1;33m\u001b[0m\u001b[0m\n\u001b[0;32m   1331\u001b[0m             \u001b[0mexecution_time\u001b[0m \u001b[1;33m=\u001b[0m \u001b[0mtoc\u001b[0m \u001b[1;33m-\u001b[0m \u001b[0mtic\u001b[0m\u001b[1;33m\u001b[0m\u001b[1;33m\u001b[0m\u001b[0m\n",
      "\u001b[1;32m~\\Desktop\\ROBOFISH_next\\FISH2_functions.py\u001b[0m in \u001b[0;36mextractDispenseBuffer\u001b[1;34m(self, buffer, volume, target, padding, same_buffer_padding, double_volume, speed)\u001b[0m\n\u001b[0;32m   1475\u001b[0m                 \u001b[0mself\u001b[0m\u001b[1;33m.\u001b[0m\u001b[0mupdateBuffer\u001b[0m\u001b[1;33m(\u001b[0m\u001b[0mbuffer\u001b[0m\u001b[1;33m,\u001b[0m \u001b[1;33m(\u001b[0m\u001b[0mvolume\u001b[0m\u001b[1;33m+\u001b[0m\u001b[1;36m50\u001b[0m\u001b[1;33m)\u001b[0m\u001b[1;33m,\u001b[0m \u001b[0mcheck\u001b[0m\u001b[1;33m=\u001b[0m\u001b[1;32mFalse\u001b[0m\u001b[1;33m)\u001b[0m\u001b[1;33m\u001b[0m\u001b[1;33m\u001b[0m\u001b[0m\n\u001b[0;32m   1476\u001b[0m                 \u001b[0mself\u001b[0m\u001b[1;33m.\u001b[0m\u001b[0mupdateBuffer\u001b[0m\u001b[1;33m(\u001b[0m\u001b[1;34m'RunningBuffer'\u001b[0m\u001b[1;33m,\u001b[0m \u001b[0mpad\u001b[0m\u001b[1;33m,\u001b[0m \u001b[0mcheck\u001b[0m\u001b[1;33m=\u001b[0m\u001b[1;32mFalse\u001b[0m\u001b[1;33m)\u001b[0m\u001b[1;33m\u001b[0m\u001b[1;33m\u001b[0m\u001b[0m\n\u001b[1;32m-> 1477\u001b[1;33m                 \u001b[0mself\u001b[0m\u001b[1;33m.\u001b[0m\u001b[0mupdateBuffer\u001b[0m\u001b[1;33m(\u001b[0m\u001b[1;34m'Waste'\u001b[0m\u001b[1;33m,\u001b[0m \u001b[1;33m(\u001b[0m\u001b[0mvolume\u001b[0m\u001b[1;33m+\u001b[0m\u001b[1;36m50\u001b[0m\u001b[1;33m+\u001b[0m\u001b[0mpad\u001b[0m\u001b[1;33m)\u001b[0m\u001b[1;33m,\u001b[0m \u001b[0mcheck\u001b[0m \u001b[1;33m=\u001b[0m \u001b[1;32mTrue\u001b[0m\u001b[1;33m)\u001b[0m\u001b[1;33m\u001b[0m\u001b[1;33m\u001b[0m\u001b[0m\n\u001b[0m\u001b[0;32m   1478\u001b[0m         \u001b[0mself\u001b[0m\u001b[1;33m.\u001b[0m\u001b[0mL\u001b[0m\u001b[1;33m.\u001b[0m\u001b[0mlogger\u001b[0m\u001b[1;33m.\u001b[0m\u001b[0minfo\u001b[0m\u001b[1;33m(\u001b[0m\u001b[1;34m'    Dispensed {}ul of {} to {} with speed {}, padding={}, same_buffer_padding={}, double_volume={}'\u001b[0m\u001b[1;33m.\u001b[0m\u001b[0mformat\u001b[0m\u001b[1;33m(\u001b[0m\u001b[0mvolume\u001b[0m\u001b[1;33m,\u001b[0m \u001b[0mbuffer\u001b[0m\u001b[1;33m,\u001b[0m \u001b[0mtarget\u001b[0m\u001b[1;33m,\u001b[0m \u001b[0mspeed\u001b[0m\u001b[1;33m,\u001b[0m \u001b[0mpadding\u001b[0m\u001b[1;33m,\u001b[0m \u001b[0msame_buffer_padding\u001b[0m\u001b[1;33m,\u001b[0m \u001b[0mdouble_volume\u001b[0m\u001b[1;33m)\u001b[0m\u001b[1;33m)\u001b[0m\u001b[1;33m\u001b[0m\u001b[1;33m\u001b[0m\u001b[0m\n\u001b[0;32m   1479\u001b[0m \u001b[1;33m\u001b[0m\u001b[0m\n",
      "\u001b[1;32m~\\Desktop\\ROBOFISH_next\\FISH2_functions.py\u001b[0m in \u001b[0;36mupdateBuffer\u001b[1;34m(self, target, volume, check)\u001b[0m\n\u001b[0;32m    688\u001b[0m         \u001b[1;31m#Check if buffers need replacement\u001b[0m\u001b[1;33m\u001b[0m\u001b[1;33m\u001b[0m\u001b[1;33m\u001b[0m\u001b[0m\n\u001b[0;32m    689\u001b[0m         \u001b[1;32mif\u001b[0m \u001b[0mcheck\u001b[0m \u001b[1;33m==\u001b[0m \u001b[1;32mTrue\u001b[0m\u001b[1;33m:\u001b[0m\u001b[1;33m\u001b[0m\u001b[1;33m\u001b[0m\u001b[0m\n\u001b[1;32m--> 690\u001b[1;33m             \u001b[0mself\u001b[0m\u001b[1;33m.\u001b[0m\u001b[0mcheckBuffer\u001b[0m\u001b[1;33m(\u001b[0m\u001b[1;33m)\u001b[0m\u001b[1;33m\u001b[0m\u001b[1;33m\u001b[0m\u001b[0m\n\u001b[0m\u001b[0;32m    691\u001b[0m \u001b[1;33m\u001b[0m\u001b[0m\n\u001b[0;32m    692\u001b[0m \u001b[1;31m#=============================================================================\u001b[0m\u001b[1;33m\u001b[0m\u001b[1;33m\u001b[0m\u001b[1;33m\u001b[0m\u001b[0m\n",
      "\u001b[1;32m~\\Desktop\\ROBOFISH_next\\FISH2_functions.py\u001b[0m in \u001b[0;36mcheckBuffer\u001b[1;34m(self)\u001b[0m\n\u001b[0;32m    642\u001b[0m                     \u001b[0malmost_empty\u001b[0m\u001b[1;33m.\u001b[0m\u001b[0mappend\u001b[0m\u001b[1;33m(\u001b[0m\u001b[1;33m[\u001b[0m\u001b[0mp\u001b[0m\u001b[1;33m,\u001b[0m \u001b[0mv\u001b[0m\u001b[1;33m]\u001b[0m\u001b[1;33m)\u001b[0m\u001b[1;33m\u001b[0m\u001b[1;33m\u001b[0m\u001b[0m\n\u001b[0;32m    643\u001b[0m                 \u001b[1;31m#Check buffers\u001b[0m\u001b[1;33m\u001b[0m\u001b[1;33m\u001b[0m\u001b[1;33m\u001b[0m\u001b[0m\n\u001b[1;32m--> 644\u001b[1;33m                 \u001b[1;32melif\u001b[0m \u001b[0mv\u001b[0m \u001b[1;33m<\u001b[0m \u001b[0mself\u001b[0m\u001b[1;33m.\u001b[0m\u001b[0mAlert_volume\u001b[0m\u001b[1;33m[\u001b[0m\u001b[0mp\u001b[0m\u001b[1;33m]\u001b[0m\u001b[1;33m:\u001b[0m\u001b[1;33m\u001b[0m\u001b[1;33m\u001b[0m\u001b[0m\n\u001b[0m\u001b[0;32m    645\u001b[0m                     \u001b[0malmost_empty\u001b[0m\u001b[1;33m.\u001b[0m\u001b[0mappend\u001b[0m\u001b[1;33m(\u001b[0m\u001b[1;33m[\u001b[0m\u001b[0mp\u001b[0m\u001b[1;33m,\u001b[0m \u001b[0mv\u001b[0m\u001b[1;33m]\u001b[0m\u001b[1;33m)\u001b[0m\u001b[1;33m\u001b[0m\u001b[1;33m\u001b[0m\u001b[0m\n\u001b[0;32m    646\u001b[0m                 \u001b[1;32melse\u001b[0m\u001b[1;33m:\u001b[0m\u001b[1;33m\u001b[0m\u001b[1;33m\u001b[0m\u001b[0m\n",
      "\u001b[1;31mTypeError\u001b[0m: '<' not supported between instances of 'float' and 'str'"
     ]
    }
   ],
   "source": [
    "F2.extractDispenseBuffer('IB', 200, 'P3')\n",
    "print(F2.Volumes)"
   ]
  },
  {
   "cell_type": "code",
   "execution_count": 7,
   "metadata": {},
   "outputs": [],
   "source": [
    "F2.updateExperimentalParameters(F2.db_path)"
   ]
  },
  {
   "cell_type": "code",
   "execution_count": 10,
   "metadata": {},
   "outputs": [
    {
     "name": "stdout",
     "output_type": "stream",
     "text": [
      "p,v: RunningBuffer 645115.0\n",
      "name: SSC2X, Alert vol: 800000.0\n",
      "p,v: P1 None\n",
      "p,v: P2 49000.0\n",
      "name: None, Alert vol: 20000.0\n",
      "p,v: P3 None\n",
      "p,v: P4 606635.0\n",
      "name: Waste, Alert vol: 600000.0\n",
      "p,v: P5 20000.0\n",
      "name: SB, Alert vol: 10000.0\n",
      "p,v: P6 6250.0\n",
      "name: IB, Alert vol: None\n"
     ]
    },
    {
     "ename": "TypeError",
     "evalue": "'<' not supported between instances of 'float' and 'str'",
     "output_type": "error",
     "traceback": [
      "\u001b[1;31m---------------------------------------------------------------------------\u001b[0m",
      "\u001b[1;31mTypeError\u001b[0m                                 Traceback (most recent call last)",
      "\u001b[1;32m<ipython-input-10-a3317aeccf9e>\u001b[0m in \u001b[0;36m<module>\u001b[1;34m\u001b[0m\n\u001b[1;32m----> 1\u001b[1;33m \u001b[0mF2\u001b[0m\u001b[1;33m.\u001b[0m\u001b[0mcheckBuffer\u001b[0m\u001b[1;33m(\u001b[0m\u001b[1;33m)\u001b[0m\u001b[1;33m\u001b[0m\u001b[1;33m\u001b[0m\u001b[0m\n\u001b[0m",
      "\u001b[1;32m~\\Desktop\\ROBOFISH_next\\FISH2_functions.py\u001b[0m in \u001b[0;36mcheckBuffer\u001b[1;34m(self)\u001b[0m\n\u001b[0;32m    642\u001b[0m                     \u001b[0malmost_empty\u001b[0m\u001b[1;33m.\u001b[0m\u001b[0mappend\u001b[0m\u001b[1;33m(\u001b[0m\u001b[1;33m[\u001b[0m\u001b[0mp\u001b[0m\u001b[1;33m,\u001b[0m \u001b[0mv\u001b[0m\u001b[1;33m]\u001b[0m\u001b[1;33m)\u001b[0m\u001b[1;33m\u001b[0m\u001b[1;33m\u001b[0m\u001b[0m\n\u001b[0;32m    643\u001b[0m                 \u001b[1;31m#Check buffers\u001b[0m\u001b[1;33m\u001b[0m\u001b[1;33m\u001b[0m\u001b[1;33m\u001b[0m\u001b[0m\n\u001b[1;32m--> 644\u001b[1;33m                 \u001b[1;32melif\u001b[0m \u001b[0mv\u001b[0m \u001b[1;33m<\u001b[0m \u001b[0mself\u001b[0m\u001b[1;33m.\u001b[0m\u001b[0mAlert_volume\u001b[0m\u001b[1;33m[\u001b[0m\u001b[0mp\u001b[0m\u001b[1;33m]\u001b[0m\u001b[1;33m:\u001b[0m\u001b[1;33m\u001b[0m\u001b[1;33m\u001b[0m\u001b[0m\n\u001b[0m\u001b[0;32m    645\u001b[0m                     \u001b[0malmost_empty\u001b[0m\u001b[1;33m.\u001b[0m\u001b[0mappend\u001b[0m\u001b[1;33m(\u001b[0m\u001b[1;33m[\u001b[0m\u001b[0mp\u001b[0m\u001b[1;33m,\u001b[0m \u001b[0mv\u001b[0m\u001b[1;33m]\u001b[0m\u001b[1;33m)\u001b[0m\u001b[1;33m\u001b[0m\u001b[1;33m\u001b[0m\u001b[0m\n\u001b[0;32m    646\u001b[0m                 \u001b[1;32melse\u001b[0m\u001b[1;33m:\u001b[0m\u001b[1;33m\u001b[0m\u001b[1;33m\u001b[0m\u001b[0m\n",
      "\u001b[1;31mTypeError\u001b[0m: '<' not supported between instances of 'float' and 'str'"
     ]
    }
   ],
   "source": [
    "F2.checkBuffer()"
   ]
  },
  {
   "cell_type": "code",
   "execution_count": 13,
   "metadata": {},
   "outputs": [
    {
     "name": "stdout",
     "output_type": "stream",
     "text": [
      "getPort input: Chamber1, port_number: False\n",
      "getPort output: P3\n"
     ]
    },
    {
     "data": {
      "text/plain": [
       "897"
      ]
     },
     "execution_count": 13,
     "metadata": {},
     "output_type": "execute_result"
    }
   ],
   "source": [
    "F2.Padding[F2.getPort('Chamber1')]"
   ]
  },
  {
   "cell_type": "code",
   "execution_count": 1,
   "metadata": {},
   "outputs": [
    {
     "ename": "NameError",
     "evalue": "name 'F2' is not defined",
     "output_type": "error",
     "traceback": [
      "\u001b[1;31m---------------------------------------------------------------------------\u001b[0m",
      "\u001b[1;31mNameError\u001b[0m                                 Traceback (most recent call last)",
      "\u001b[1;32m<ipython-input-1-3388a8c03621>\u001b[0m in \u001b[0;36m<module>\u001b[1;34m\u001b[0m\n\u001b[1;32m----> 1\u001b[1;33m \u001b[0mF2\u001b[0m\u001b[1;33m.\u001b[0m\u001b[0mupdateBuffer\u001b[0m\u001b[1;33m(\u001b[0m\u001b[1;34m'Waste'\u001b[0m\u001b[1;33m,\u001b[0m \u001b[1;36m50\u001b[0m\u001b[1;33m)\u001b[0m\u001b[1;33m\u001b[0m\u001b[1;33m\u001b[0m\u001b[0m\n\u001b[0m",
      "\u001b[1;31mNameError\u001b[0m: name 'F2' is not defined"
     ]
    }
   ],
   "source": [
    "F2.updateBuffer('Waste', 50)"
   ]
  },
  {
   "cell_type": "code",
   "execution_count": 15,
   "metadata": {},
   "outputs": [],
   "source": [
    "F2.updateExperimentalParameters(F2.db_path)"
   ]
  },
  {
   "cell_type": "code",
   "execution_count": 18,
   "metadata": {},
   "outputs": [
    {
     "name": "stdout",
     "output_type": "stream",
     "text": [
      "getPort input: HYB02, port_number: False\n",
      "getPort output: P12\n"
     ]
    },
    {
     "data": {
      "text/plain": [
       "750"
      ]
     },
     "execution_count": 18,
     "metadata": {},
     "output_type": "execute_result"
    }
   ],
   "source": [
    "F2.Padding[F2.getPort('HYB02')]"
   ]
  },
  {
   "cell_type": "code",
   "execution_count": 20,
   "metadata": {},
   "outputs": [
    {
     "data": {
      "text/plain": [
       "{'RunningBuffer': 700000.0,\n",
       " 'Waste': 552000.0,\n",
       " 'P1': 'None',\n",
       " 'P2': 1337,\n",
       " 'P3': -1556.0,\n",
       " 'P4': 'None',\n",
       " 'P5': 'None',\n",
       " 'P6': 1000.0,\n",
       " 'P7': 'None',\n",
       " 'P8': 'None',\n",
       " 'P9': 'None',\n",
       " 'P10': 'None',\n",
       " 'P11': 'None',\n",
       " 'P12': 'None',\n",
       " 'P13': 'None',\n",
       " 'P14': 'None',\n",
       " 'P15': 'None',\n",
       " 'P16': 'None',\n",
       " 'P17': 'None',\n",
       " 'P18': 'None',\n",
       " 'P19': 'None',\n",
       " 'P20': 'None'}"
      ]
     },
     "execution_count": 20,
     "metadata": {},
     "output_type": "execute_result"
    }
   ],
   "source": [
    "F2.Volumes"
   ]
  },
  {
   "cell_type": "code",
   "execution_count": null,
   "metadata": {},
   "outputs": [],
   "source": [
    "F2."
   ]
  },
  {
   "cell_type": "code",
   "execution_count": 2,
   "metadata": {},
   "outputs": [
    {
     "name": "stderr",
     "output_type": "stream",
     "text": [
      "Start new experiment, start with chamber 1.\n",
      "_____\n",
      "STARTING Test1, CYCLE: 1\n",
      "\n",
      "####  Placeholder1 Chamber1 1  ####\n",
      "\n",
      "Start Imaging of Experiment: Test1 Cycle: 1\n",
      "No new experiment detected in Chamber2, waiting untill imaging of Chamber1 is finished\n"
     ]
    },
    {
     "name": "stdout",
     "output_type": "stream",
     "text": [
      "{'EXP_number_1': 'Test1', 'EXP_number_2': 'None', 'Location_EXP_1': 'None', 'Location_EXP_2': 'None', 'Target_cycles_1': 6, 'Target_cycles_2': 'None', 'Current_cycle_1': 'None', 'Current_cycle_2': 'None', 'Current_part_1': 'None', 'Current_part_2': 'None', 'Current_staining': 1}\n",
      "\n",
      "Imaging of other chamber finished, waited 0 minutes. (This time could be used to extend the hybridization with 0.0 hours.)\n",
      "{'EXP_number_1': 'Test1', 'EXP_number_2': 'None', 'Location_EXP_1': 'None', 'Location_EXP_2': 'None', 'Target_cycles_1': 6, 'Target_cycles_2': 'None', 'Current_cycle_1': 1, 'Current_cycle_2': 'None', 'Current_part_1': 'None', 'Current_part_2': 'None', 'Current_staining': 2}\n",
      "\n",
      "Waiting for imaging to finish...\n"
     ]
    },
    {
     "name": "stderr",
     "output_type": "stream",
     "text": [
      "Imaging Experiment: Test1 Cycle: 1 done.\n",
      "\n",
      " \n",
      "_____\n",
      "STARTING Test1, CYCLE: 2\n",
      "\n",
      "####  Placeholder2 Chamber1  2  ####\n",
      "\n",
      "Start Imaging of Experiment: Test1 Cycle: 2\n",
      "No new experiment detected in Chamber2, waiting untill imaging of Chamber1 is finished\n"
     ]
    },
    {
     "name": "stdout",
     "output_type": "stream",
     "text": [
      "Imaging of other chamber finished, waited 1 minutes. (This time could be used to extend the hybridization with 0.02 hours.)\n",
      "\n",
      "{'EXP_number_1': 'Test1', 'EXP_number_2': 'None', 'Location_EXP_1': 'None', 'Location_EXP_2': 'None', 'Target_cycles_1': 6, 'Target_cycles_2': 'None', 'Current_cycle_1': 1, 'Current_cycle_2': 'None', 'Current_part_1': 'None', 'Current_part_2': 'None', 'Current_staining': 1}\n",
      "2020-06-16 18:40:29.167479\n",
      "0:02:00.058088\n",
      "4\n",
      "2020-06-16 18:50:29.225567\n",
      "Expected finish time of cycle 2 in Chamber1: 2020-06-16 18:44:29.283655\n",
      "Expected finish time for full experiment in Chamber1: 2020-06-16 18:50:29.225567\n",
      "\n",
      "Imaging of other chamber finished, waited 0 minutes. (This time could be used to extend the hybridization with 0.0 hours.)\n",
      "{'EXP_number_1': 'Test1', 'EXP_number_2': 'None', 'Location_EXP_1': 'None', 'Location_EXP_2': 'None', 'Target_cycles_1': 6, 'Target_cycles_2': 'None', 'Current_cycle_1': 2, 'Current_cycle_2': 'None', 'Current_part_1': 'None', 'Current_part_2': 'None', 'Current_staining': 2}\n",
      "\n",
      "Waiting for imaging to finish...\n"
     ]
    },
    {
     "name": "stderr",
     "output_type": "stream",
     "text": [
      "Imaging Experiment: Test1 Cycle: 2 done.\n",
      "\n",
      " \n",
      "_____\n",
      "STARTING Test1, CYCLE: 3\n",
      "\n",
      "####  Placeholder2 Chamber1  3  ####\n",
      "\n",
      "Start Imaging of Experiment: Test1 Cycle: 3\n",
      "No new experiment detected in Chamber2, waiting untill imaging of Chamber1 is finished\n"
     ]
    },
    {
     "name": "stdout",
     "output_type": "stream",
     "text": [
      "Imaging of other chamber finished, waited 1 minutes. (This time could be used to extend the hybridization with 0.02 hours.)\n",
      "\n",
      "{'EXP_number_1': 'Test1', 'EXP_number_2': 'None', 'Location_EXP_1': 'None', 'Location_EXP_2': 'None', 'Target_cycles_1': 6, 'Target_cycles_2': 'None', 'Current_cycle_1': 2, 'Current_cycle_2': 'None', 'Current_part_1': 'None', 'Current_part_2': 'None', 'Current_staining': 1}\n",
      "2020-06-16 18:42:29.225567\n",
      "0:02:00.059100\n",
      "3\n",
      "2020-06-16 18:50:29.284667\n",
      "Expected finish time of cycle 3 in Chamber1: 2020-06-16 18:46:29.343767\n",
      "Expected finish time for full experiment in Chamber1: 2020-06-16 18:50:29.284667\n",
      "\n",
      "Imaging of other chamber finished, waited 0 minutes. (This time could be used to extend the hybridization with 0.0 hours.)\n",
      "{'EXP_number_1': 'Test1', 'EXP_number_2': 'None', 'Location_EXP_1': 'None', 'Location_EXP_2': 'None', 'Target_cycles_1': 6, 'Target_cycles_2': 'None', 'Current_cycle_1': 3, 'Current_cycle_2': 'None', 'Current_part_1': 'None', 'Current_part_2': 'None', 'Current_staining': 2}\n",
      "\n",
      "Waiting for imaging to finish...\n"
     ]
    },
    {
     "ename": "KeyboardInterrupt",
     "evalue": "",
     "output_type": "error",
     "traceback": [
      "\u001b[1;31m---------------------------------------------------------------------------\u001b[0m",
      "\u001b[1;31mKeyboardInterrupt\u001b[0m                         Traceback (most recent call last)",
      "\u001b[1;32m<ipython-input-2-62de2eb04afe>\u001b[0m in \u001b[0;36m<module>\u001b[1;34m\u001b[0m\n\u001b[0;32m      5\u001b[0m     \u001b[0mF2\u001b[0m\u001b[1;33m.\u001b[0m\u001b[0mL\u001b[0m\u001b[1;33m.\u001b[0m\u001b[0mlogger\u001b[0m\u001b[1;33m.\u001b[0m\u001b[0minfo\u001b[0m\u001b[1;33m(\u001b[0m\u001b[1;34m'\\n####  Placeholder2 {}  {}  ####\\n'\u001b[0m\u001b[1;33m.\u001b[0m\u001b[0mformat\u001b[0m\u001b[1;33m(\u001b[0m\u001b[0ma\u001b[0m\u001b[1;33m,\u001b[0m\u001b[0mb\u001b[0m\u001b[1;33m)\u001b[0m\u001b[1;33m)\u001b[0m\u001b[1;33m\u001b[0m\u001b[1;33m\u001b[0m\u001b[0m\n\u001b[0;32m      6\u001b[0m \u001b[1;33m\u001b[0m\u001b[0m\n\u001b[1;32m----> 7\u001b[1;33m \u001b[0mF2\u001b[0m\u001b[1;33m.\u001b[0m\u001b[0mscheduler\u001b[0m\u001b[1;33m(\u001b[0m\u001b[0mplaceholder1\u001b[0m\u001b[1;33m,\u001b[0m \u001b[0mplaceholder2\u001b[0m\u001b[1;33m)\u001b[0m\u001b[1;33m\u001b[0m\u001b[1;33m\u001b[0m\u001b[0m\n\u001b[0m",
      "\u001b[1;32m~\\Desktop\\ROBOFISH_next\\FISH2_functions.py\u001b[0m in \u001b[0;36mscheduler\u001b[1;34m(self, function1, function2, remove_experiment, current_1, current_2, start_with)\u001b[0m\n\u001b[0;32m   2094\u001b[0m                 \u001b[0mprint\u001b[0m\u001b[1;33m(\u001b[0m\u001b[1;34m''\u001b[0m\u001b[1;33m)\u001b[0m\u001b[1;33m\u001b[0m\u001b[1;33m\u001b[0m\u001b[0m\n\u001b[0;32m   2095\u001b[0m                 \u001b[1;31m#Wait untill Other is finished with imaging\u001b[0m\u001b[1;33m\u001b[0m\u001b[1;33m\u001b[0m\u001b[1;33m\u001b[0m\u001b[0m\n\u001b[1;32m-> 2096\u001b[1;33m                 \u001b[0mself\u001b[0m\u001b[1;33m.\u001b[0m\u001b[0mwaitImaging\u001b[0m\u001b[1;33m(\u001b[0m\u001b[0mself\u001b[0m\u001b[1;33m.\u001b[0m\u001b[0mstart_imaging_file_path\u001b[0m\u001b[1;33m)\u001b[0m\u001b[1;33m\u001b[0m\u001b[1;33m\u001b[0m\u001b[0m\n\u001b[0m\u001b[0;32m   2097\u001b[0m                 \u001b[0mself\u001b[0m\u001b[1;33m.\u001b[0m\u001b[0mL\u001b[0m\u001b[1;33m.\u001b[0m\u001b[0mlogger\u001b[0m\u001b[1;33m.\u001b[0m\u001b[0minfo\u001b[0m\u001b[1;33m(\u001b[0m\u001b[1;34m'Imaging Experiment: {} Cycle: {} done.\\n'\u001b[0m\u001b[1;33m.\u001b[0m\u001b[0mformat\u001b[0m\u001b[1;33m(\u001b[0m\u001b[0mcur_exp\u001b[0m\u001b[1;33m[\u001b[0m\u001b[1;34m'EXP_number_{}'\u001b[0m\u001b[1;33m.\u001b[0m\u001b[0mformat\u001b[0m\u001b[1;33m(\u001b[0m\u001b[0mother\u001b[0m\u001b[1;33m)\u001b[0m\u001b[1;33m]\u001b[0m\u001b[1;33m,\u001b[0m \u001b[0mcur_exp\u001b[0m\u001b[1;33m[\u001b[0m\u001b[1;34m'Current_cycle_{}'\u001b[0m\u001b[1;33m.\u001b[0m\u001b[0mformat\u001b[0m\u001b[1;33m(\u001b[0m\u001b[0mother\u001b[0m\u001b[1;33m)\u001b[0m\u001b[1;33m]\u001b[0m\u001b[1;33m)\u001b[0m\u001b[1;33m)\u001b[0m\u001b[1;33m\u001b[0m\u001b[1;33m\u001b[0m\u001b[0m\n\u001b[0;32m   2098\u001b[0m                 \u001b[0mprint\u001b[0m\u001b[1;33m(\u001b[0m\u001b[1;34m''\u001b[0m\u001b[1;33m)\u001b[0m\u001b[1;33m\u001b[0m\u001b[1;33m\u001b[0m\u001b[0m\n",
      "\u001b[1;32m~\\Desktop\\ROBOFISH_next\\FISH2_functions.py\u001b[0m in \u001b[0;36mwaitImaging\u001b[1;34m(self, start_imaging_file_path)\u001b[0m\n\u001b[0;32m   1828\u001b[0m                     \u001b[0mprint\u001b[0m\u001b[1;33m(\u001b[0m\u001b[1;34m'Waiting for imaging to finish...'\u001b[0m\u001b[1;33m)\u001b[0m\u001b[1;33m\u001b[0m\u001b[1;33m\u001b[0m\u001b[0m\n\u001b[0;32m   1829\u001b[0m                 \u001b[0mcount\u001b[0m \u001b[1;33m+=\u001b[0m \u001b[1;36m1\u001b[0m\u001b[1;33m\u001b[0m\u001b[1;33m\u001b[0m\u001b[0m\n\u001b[1;32m-> 1830\u001b[1;33m                 \u001b[0mself\u001b[0m\u001b[1;33m.\u001b[0m\u001b[0msecure_sleep\u001b[0m\u001b[1;33m(\u001b[0m\u001b[1;36m120\u001b[0m\u001b[1;33m,\u001b[0m \u001b[0mperiod\u001b[0m\u001b[1;33m=\u001b[0m\u001b[1;36m60\u001b[0m\u001b[1;33m,\u001b[0m \u001b[0malarm_room_temperature\u001b[0m\u001b[1;33m=\u001b[0m\u001b[1;36m35\u001b[0m\u001b[1;33m,\u001b[0m \u001b[0mtemperature_range\u001b[0m\u001b[1;33m=\u001b[0m\u001b[1;36m5\u001b[0m\u001b[1;33m,\u001b[0m \u001b[0mnumber_of_messages\u001b[0m\u001b[1;33m=\u001b[0m\u001b[1;36m10\u001b[0m\u001b[1;33m)\u001b[0m\u001b[1;33m\u001b[0m\u001b[1;33m\u001b[0m\u001b[0m\n\u001b[0m\u001b[0;32m   1831\u001b[0m             \u001b[1;32mexcept\u001b[0m \u001b[0mException\u001b[0m \u001b[1;32mas\u001b[0m \u001b[0me\u001b[0m\u001b[1;33m:\u001b[0m\u001b[1;33m\u001b[0m\u001b[1;33m\u001b[0m\u001b[0m\n\u001b[0;32m   1832\u001b[0m                 \u001b[0mprint\u001b[0m \u001b[1;33m(\u001b[0m\u001b[1;34m\"Error, Unable to open Start_Imaging_File with path: {}, Make sure the file is present at this location or correct the path. Error message: {}\"\u001b[0m\u001b[1;33m.\u001b[0m\u001b[0mformat\u001b[0m\u001b[1;33m(\u001b[0m\u001b[0mstart_imaging_file_path\u001b[0m\u001b[1;33m,\u001b[0m \u001b[0me\u001b[0m\u001b[1;33m)\u001b[0m\u001b[1;33m)\u001b[0m\u001b[1;33m\u001b[0m\u001b[1;33m\u001b[0m\u001b[0m\n",
      "\u001b[1;32m~\\Desktop\\ROBOFISH_next\\FISH2_functions.py\u001b[0m in \u001b[0;36msecure_sleep\u001b[1;34m(self, sec, period, alarm_room_temperature, temperature_range, number_of_messages, verbose)\u001b[0m\n\u001b[0;32m   1230\u001b[0m \u001b[1;33m\u001b[0m\u001b[0m\n\u001b[0;32m   1231\u001b[0m                 \u001b[1;32mif\u001b[0m \u001b[0mremain_sleep\u001b[0m\u001b[1;33m>\u001b[0m\u001b[1;36m0\u001b[0m\u001b[1;33m:\u001b[0m\u001b[1;33m\u001b[0m\u001b[1;33m\u001b[0m\u001b[0m\n\u001b[1;32m-> 1232\u001b[1;33m                     \u001b[0mtime\u001b[0m\u001b[1;33m.\u001b[0m\u001b[0msleep\u001b[0m\u001b[1;33m(\u001b[0m\u001b[0mremain_sleep\u001b[0m\u001b[1;33m)\u001b[0m\u001b[1;33m\u001b[0m\u001b[1;33m\u001b[0m\u001b[0m\n\u001b[0m\u001b[0;32m   1233\u001b[0m                 \u001b[1;32melse\u001b[0m\u001b[1;33m:\u001b[0m\u001b[1;33m\u001b[0m\u001b[1;33m\u001b[0m\u001b[0m\n\u001b[0;32m   1234\u001b[0m                     \u001b[0msec\u001b[0m \u001b[1;33m+=\u001b[0m \u001b[0mremain_sleep\u001b[0m\u001b[1;33m\u001b[0m\u001b[1;33m\u001b[0m\u001b[0m\n",
      "\u001b[1;31mKeyboardInterrupt\u001b[0m: "
     ]
    }
   ],
   "source": [
    "def placeholder1(a, b):\n",
    "    F2.L.logger.info('\\n####  Placeholder1 {} {}  ####\\n'.format(a,b))\n",
    "\n",
    "def placeholder2(a, b):\n",
    "    F2.L.logger.info('\\n####  Placeholder2 {}  {}  ####\\n'.format(a,b))    \n",
    "    \n",
    "F2.scheduler(placeholder1, placeholder2)"
   ]
  },
  {
   "cell_type": "code",
   "execution_count": 12,
   "metadata": {},
   "outputs": [],
   "source": [
    "from datetime import datetime"
   ]
  },
  {
   "cell_type": "code",
   "execution_count": 24,
   "metadata": {},
   "outputs": [],
   "source": [
    "a = {'tic_1': None}\n",
    "a['tic_{}'.format(1)] = datetime.now()"
   ]
  },
  {
   "cell_type": "code",
   "execution_count": 26,
   "metadata": {},
   "outputs": [
    {
     "data": {
      "text/plain": [
       "datetime.timedelta(seconds=12, microseconds=535484)"
      ]
     },
     "execution_count": 26,
     "metadata": {},
     "output_type": "execute_result"
    }
   ],
   "source": [
    "datetime.now() - a['tic_{}'.format(1)]"
   ]
  },
  {
   "cell_type": "code",
   "execution_count": 23,
   "metadata": {},
   "outputs": [
    {
     "data": {
      "text/plain": [
       "{'a1': datetime.datetime(2020, 6, 16, 17, 33, 41, 732025)}"
      ]
     },
     "execution_count": 23,
     "metadata": {},
     "output_type": "execute_result"
    }
   ],
   "source": [
    "a"
   ]
  },
  {
   "cell_type": "code",
   "execution_count": 20,
   "metadata": {},
   "outputs": [
    {
     "ename": "TypeError",
     "evalue": "integer argument expected, got float",
     "output_type": "error",
     "traceback": [
      "\u001b[1;31m---------------------------------------------------------------------------\u001b[0m",
      "\u001b[1;31mTypeError\u001b[0m                                 Traceback (most recent call last)",
      "\u001b[1;32m<ipython-input-20-11967e509f5b>\u001b[0m in \u001b[0;36m<module>\u001b[1;34m\u001b[0m\n\u001b[1;32m----> 1\u001b[1;33m \u001b[0mdatetime\u001b[0m\u001b[1;33m(\u001b[0m\u001b[1;36m1592320943.7115378\u001b[0m\u001b[1;33m)\u001b[0m\u001b[1;33m\u001b[0m\u001b[1;33m\u001b[0m\u001b[0m\n\u001b[0m",
      "\u001b[1;31mTypeError\u001b[0m: integer argument expected, got float"
     ]
    }
   ],
   "source": [
    "datetime(1592320943.7115378)"
   ]
  },
  {
   "cell_type": "code",
   "execution_count": null,
   "metadata": {},
   "outputs": [],
   "source": []
  },
  {
   "cell_type": "code",
   "execution_count": 2,
   "metadata": {},
   "outputs": [
    {
     "name": "stderr",
     "output_type": "stream",
     "text": [
      "\n",
      "\n",
      "MANUAL PROTOCOL:\n",
      "Sample preparation performed on 2020-05-19.\n",
      "Slide prepared on 2020-05-19.\n",
      "\n",
      "\n",
      "Permeabilize the tissue 5 minutes with 0.1% Triton X-100, 10mM DTT in 1X TBE.\n",
      "Wash 5 times with 1X TBE\n",
      "perform electrophoresis 20 minutes at 1.5V in 1X TBE with 1M Urea and 10mM DTT.\n",
      "During next digestion pipet up and down to disloge the tissue.\n",
      "Digest 3 times 10 minutes with 12.5ul/ml ProtK NEB in digestion buffer at 30C.\n",
      "Wash 3 times 5 minutes with 5% SDS in 2X SSC at 30C.\n",
      "Wash 5 times wtih 2X SSC.\n",
      "Fix 10 minutes with 4% PFA in 1X PBS.\n",
      "Wash 3 times with PBS buffer.\n",
      "Wash 3 times with 2X SSC.\n",
      "Probes 5'encoding for Gad2, Sox10 and Actb\n",
      "Resuspend in 30ul of 30% formamide hybridization mix, 1nM/probe.\n",
      "Place on tissue and cover with Hybrislip.\n",
      "Incubate at 38.5 C in humidified petridish.\n",
      "Start: 19:30\n",
      "\n",
      "Stop: 2020-05-21 at 10:00\n",
      "Mount in Optical Biosystems flow cell. \n",
      "Fluorescent readout probes: 50nM in 10% formamide hybridization mix.\n",
      "Strand displacement probes: 1uM in 10% formamide hybridization mix.\n",
      "Wash buffer 30% formamide for encoding probes.\n",
      "Wash buffer 20% formamide after readouts.\n",
      "\n",
      "\n"
     ]
    }
   ],
   "source": [
    "prot = \"\"\"\n",
    "\n",
    "MANUAL PROTOCOL:\n",
    "Sample preparation performed on 2020-05-19.\n",
    "Slide prepared on 2020-05-19.\n",
    "\n",
    "\n",
    "Permeabilize the tissue 5 minutes with 0.1% Triton X-100, 10mM DTT in 1X TBE.\n",
    "Wash 5 times with 1X TBE\n",
    "perform electrophoresis 20 minutes at 1.5V in 1X TBE with 1M Urea and 10mM DTT.\n",
    "During next digestion pipet up and down to disloge the tissue.\n",
    "Digest 3 times 10 minutes with 12.5ul/ml ProtK NEB in digestion buffer at 30C.\n",
    "Wash 3 times 5 minutes with 5% SDS in 2X SSC at 30C.\n",
    "Wash 5 times wtih 2X SSC.\n",
    "Fix 10 minutes with 4% PFA in 1X PBS.\n",
    "Wash 3 times with PBS buffer.\n",
    "Wash 3 times with 2X SSC.\n",
    "Probes 5'encoding for Gad2, Sox10 and Actb\n",
    "Resuspend in 30ul of 30% formamide hybridization mix, 1nM/probe.\n",
    "Place on tissue and cover with Hybrislip.\n",
    "Incubate at 38.5 C in humidified petridish.\n",
    "Start: 19:30\n",
    "\n",
    "Stop: 2020-05-21 at 10:00\n",
    "Mount in Optical Biosystems flow cell. \n",
    "Fluorescent readout probes: 50nM in 10% formamide hybridization mix.\n",
    "Strand displacement probes: 1uM in 10% formamide hybridization mix.\n",
    "Wash buffer 30% formamide for encoding probes.\n",
    "Wash buffer 20% formamide after readouts.\n",
    "\n",
    "\"\"\"\n",
    "for i in prot.split('\\n'):\n",
    "    F2.L.logger.info(i)\n",
    "    \n",
    "\n",
    "#Dry 25ul of 337ng/ul probe stock with SpeedVac."
   ]
  },
  {
   "cell_type": "markdown",
   "metadata": {},
   "source": [
    "# osmFISH"
   ]
  },
  {
   "cell_type": "code",
   "execution_count": 2,
   "metadata": {
    "ExecuteTime": {
     "end_time": "2019-05-07T09:52:36.264157Z",
     "start_time": "2019-05-07T09:52:36.245156Z"
    }
   },
   "outputs": [],
   "source": [
    "def SDSclearing(chamber, volume, cycles, incubation_time=0):\n",
    "    \"\"\"\n",
    "    SDS clearing of tissue. Including SSC2X wash afterwards.\n",
    "    Input:\n",
    "    `chamber`(str): Chamber to clear. Like: 'Chamber1'.\n",
    "    `volume`(int): Volume of SDS to use per wash round.\n",
    "    `cycles`(int): Number of cycles to wash.\n",
    "    `incubation_time`(int): Incubation time in minutes per wash cycle.\n",
    "    \n",
    "    \"\"\"\n",
    "    F2.L.logger.info('SDS clearing {} start'.format(chamber))\n",
    "    F2.setTemp(20, chamber) #Set to room temperature\n",
    "    #Wash with SDS\n",
    "    F2.extractDispenseBuffer('SDS', volume, chamber, padding=True, same_buffer_padding=True, double_volume=True, m=incubation_time)\n",
    "    F2.resetReservoir(50, update_buffer=True)\n",
    "    for i in range(cycles-1):\n",
    "        F2.extractDispenseBuffer('SDS', volume, chamber, padding=False, m=incubation_time)\n",
    "        F2.resetReservoir(50, update_buffer=True)\n",
    "    #Wash out SDS with SSC2X\n",
    "    for i in range(5):\n",
    "        F2.extractDispenseSSC(1000, chamber)\n",
    "        time.sleep(60)\n",
    "    F2.L.logger.info('Clearing {}. Washed {} times {} minutes with {}ul SDS.'. format(chamber, cycles, incubation_time, volume))\n",
    "        \n",
    "def heatShock(chamber, TE_volume, staining_temp, heatshock_temp, incubation_time=0):\n",
    "    \"\"\"\n",
    "    Heatshock of tissue in TE buffer. Including SSC2X wash afterwards.\n",
    "    Input:\n",
    "    `chamber`(str): Chamber to do heatshock. Like: 'Chamber1'.\n",
    "    `TE_volume`(int): Volume of TE to use.\n",
    "    `staining_temp`(int): Temperature used for hybridization/washes in Celcius.\n",
    "    `heatshock_temp`(int): Temperature for heatshock in Celcius. \n",
    "    `incubation_time`(int): Time to keep the tissue at the heatschok_temp in minutes.\n",
    "    \n",
    "    \"\"\"\n",
    "    F2.L.logger.info('Heatshock {} start'.format(chamber))\n",
    "    F2.extractDispenseBuffer('TE', TE_volume, chamber, padding=True, same_buffer_padding=True)\n",
    "    time.sleep(60)\n",
    "    F2.extractDispenseBuffer('TE', TE_volume, chamber, padding=False)\n",
    "    F2.resetReservoir(50, update_buffer=True)\n",
    "    F2.setRampTemp(heatshock_temp, step=1, step_time=2)\n",
    "    F2.waitTemp(heatshock_temp, chamber, error=5, sd=0.01, verbose=True)\n",
    "    time.sleep(60 * incubation_time)\n",
    "    F2.setRampTemp(staining_temp, chamber, step=1, step_time=2)\n",
    "    time.sleep(30)\n",
    "    for i in range(2):\n",
    "        F2.extractDispenseSSC(1000, chamber)\n",
    "        time.sleep(60)\n",
    "    F2.waitTemp(staining_temp, chamber, error=3, sd=0.01, verbose=False)\n",
    "    F2.L.logger.info('Heatshock {}. Washed with {} TE buffer and perfomed heatshock for {} minutes at {}C.'.format(chamber, TE_volume, incubation_time, heatshock_temp))\n",
    "    \n",
    "def hybridization(chamber, cycle, hybridization_temp, indirect=None, incubation_time=0):\n",
    "    \"\"\"\n",
    "    Hybridization.\n",
    "    Input:\n",
    "    `chamber`(str): Chamber to hybridize. Like: 'Chamber1'.\n",
    "    `cycle`(int): Current staining cycle.\n",
    "    `hybridization_temp`(float): Hybridization temperature.\n",
    "    `indirect`(str): \"A\" for encoding probes, \"B\" for detection probes. None\n",
    "        for an experiment with direct labeling.\n",
    "    `incubation_time`(int): Hybridization time in HOURS\n",
    "    \n",
    "    \"\"\"\n",
    "    F2.setTemp(hybridization_temp, chamber)\n",
    "    F2.waitTemp(hybridization_temp, chamber, error=3, sd=0.01, verbose=False)\n",
    "    F2.L.logger.info('Hybridization {}, cycle {}, indirect {}, start dispense'.format(chamber, cycle, indirect))\n",
    "    F2.extractDispenseHybmix(chamber, cycle, indirect=indirect, h=incubation_time)\n",
    "    F2.L.logger.info('Hybridization {}, cycle {}, indirect {}, finished'.format(chamber, cycle, indirect))\n",
    "    \n",
    "def washBufferWash(chamber, volume, cycles, incubation_time=0):\n",
    "    \"\"\"\n",
    "    Stringency wash after hybridization. Including SSC2X wash afterwards.\n",
    "    Input:\n",
    "    `chamber`(str): Chamber to wash. Like: 'Chamber1'.\n",
    "    `volume`(int): Volume of WB to use per wash cycle.\n",
    "    `cycles`(int): Number of cycle to wash.\n",
    "    `incubation_time`(int): Incubation time in minutes per wash cycle.\n",
    "    \n",
    "    \"\"\"\n",
    "    F2.L.logger.info('Stingency wash {} start'.format(chamber))\n",
    "    #Wash with WB\n",
    "    F2.extractDispenseBuffer('WB', volume, chamber, padding=True, same_buffer_padding=True, double_volume=True, m=incubation_time)\n",
    "    F2.resetReservoir(50, update_buffer=True)\n",
    "    for i in range(cycles-1):\n",
    "        F2.extractDispenseBuffer('WB', volume, chamber, padding=False, m=incubation_time)\n",
    "        F2.resetReservoir(50, update_buffer=True)\n",
    "    #Wash out WB\n",
    "    for i in range(4):\n",
    "        F2.extractDispenseSSC(1000, chamber)\n",
    "    F2.L.logger.info('Stringency wash {}. Washed {} times with {}ul WB for {} minutes'.format(chamber, cycles, volume, incubation_time))    \n",
    "\n",
    "def imagingBuffer(chamber, volume, imaging_temp):\n",
    "    \"\"\"\n",
    "    Inject imaging buffer into the chamber and set chamber to imaging temperature.\n",
    "    Input:\n",
    "    `chamber`(str): Chamber to inject. Like: 'Chamber1'.\n",
    "    `volume`(int): Volume of imaging buffer to inject.\n",
    "    `imaging_temp`(float): Temperature to perform the imaging at.\n",
    "    \n",
    "    \"\"\"\n",
    "    F2.L.logger.info('Imaging buffer injecting into {}'.format(chamber))\n",
    "    F2.setTemp(imaging_temp, chamber)\n",
    "    F2.extractDispenseBuffer('IB', volume, chamber, padding=True, same_buffer_padding=False)\n",
    "    F2.waitTemp(imaging_temp, chamber, error=3, sd=0.01, verbose=False)\n",
    "    F2.L.logger.info('Imaging buffer. Injected {}ul of imaging buffer into {}, temperature set to {}C'.format(volume, chamber, imaging_temp))\n",
    "    \n",
    "def stripping(chamber, volume, cycles, stripping_temp, incubation_time=0, wash_cycles= 5):\n",
    "    \"\"\"\n",
    "    Stripping of hybridized probes. Including SSC2X wash before (to wash out IB)\n",
    "    and after.\n",
    "    Input:\n",
    "    `chamber`(str): Chamber to wash. Like: 'Chamber1'.\n",
    "    `volume`(int): Volume of SB to use per wash cycle.\n",
    "    `cycles`(int): Number of cycles to wash.\n",
    "    `incubation_time`(int): Incubation time in minutes per wash cycle.\n",
    "    `stripping_temp`(int): Temperature used for hybridization/washes in Celcius.\n",
    "    `wash_cycles`(int): Number of 1000ul washes after the striping. Default=5\n",
    "    \n",
    "    \"\"\"\n",
    "    F2.L.logger.info('Stripping {} start'.format(chamber))\n",
    "    #Set temperature back to stripping_temperature\n",
    "    F2.setTemp(stripping_temp, chamber)\n",
    "    #Wash out imaging buffer\n",
    "    for i in range(4):\n",
    "        F2.extractDispenseSSC(1000, chamber)\n",
    "    F2.waitTemp(stripping_temp, chamber, error=3, sd=0.01, verbose=False)\n",
    "    F2.extractDispenseBuffer('SB', volume, chamber, padding=True, same_buffer_padding=True, double_volume=True, m=incubation_time)\n",
    "    F2.resetReservoir(50, update_buffer=True)\n",
    "    for i in range(cycles-1):\n",
    "        F2.extractDispenseBuffer('SB', volume, chamber, padding=False, m=incubation_time)\n",
    "        F2.resetReservoir(50, update_buffer=True)   \n",
    "    #Wash out SB\n",
    "    for i in range(wash_cycles):\n",
    "        F2.extractDispenseSSC(1000, chamber)\n",
    "    F2.L.logger.info('Stripping. Washed {}, {} times with {}ul SB for {} minutes'.format(chamber, cycles, volume, incubation_time))"
   ]
  },
  {
   "cell_type": "markdown",
   "metadata": {},
   "source": [
    "# EEL"
   ]
  },
  {
   "cell_type": "code",
   "execution_count": 2,
   "metadata": {},
   "outputs": [],
   "source": [
    "def EEL_washBufferWash(chamber, volume, cycles, incubation_time=0, buffer='WB'):\n",
    "    \"\"\"\n",
    "    Stringency wash after hybridization. Including SSC2X wash afterwards.\n",
    "    Input:\n",
    "    `chamber`(str): Chamber to wash. Like: 'Chamber1'.\n",
    "    `volume`(int): Volume of WB to use per wash cycle.\n",
    "    `cycles`(int): Number of cycle to wash.\n",
    "    `incubation_time`(int): Incubation time in minutes per wash cycle.\n",
    "    \n",
    "    \"\"\"\n",
    "    F2.L.logger.info('Stingency wash {} start'.format(chamber))\n",
    "    #Wash with WB\n",
    "    F2.extractDispenseBuffer(buffer, volume, chamber, padding=True, same_buffer_padding=True, double_volume=True, m=incubation_time)\n",
    "    F2.resetReservoir(50, update_buffer=True)\n",
    "    for i in range(cycles-1):\n",
    "        F2.extractDispenseBuffer(buffer, volume, chamber, padding=False, m=incubation_time)\n",
    "        F2.resetReservoir(50, update_buffer=True)\n",
    "    #Wash out WB\n",
    "    for i in range(4):\n",
    "        F2.extractDispenseRunningBuffer(1000, chamber)\n",
    "    F2.L.logger.info('Stringency wash {}. Washed {} times with {}ul WB for {} minutes'.format(chamber, cycles, volume, incubation_time))\n",
    "    \n",
    "def EEL_fix(chamber):\n",
    "    \"\"\"\n",
    "    Perform PFA fixation manually.\n",
    "    Input:\n",
    "    `chamber`(str): Chamber to fix. Like: 'Chamber1'.\n",
    "    \n",
    "    \"\"\"\n",
    "    #Manual Fixation\n",
    "    long_message='Manually fix 10 minutes with 4% PFA in 1X PBS. Afterwards flush with SSC2X'\n",
    "    F2.push(F2.Operator_address, short_message='Fixation chamber{}'.format(chamber), long_message=long_message)\n",
    "    print(long_message)\n",
    "    #Set temperature\n",
    "    F2.setTemp(F2.Parameters['Imaging_temperature'], chamber)\n",
    "    F2.waitTemp(F2.Parameters['Imaging_temperature'], chamber, error=3, sd=0.01, verbose=False)\n",
    "    input('Perform Fixation. Press enter when done with fixation...')\n",
    "    F2.L.logger.info('Manually fixed 10 minutes with 4% PFA in 1X PBS.')\n",
    "    F2.L.logger.info('Manually flushed with PBS and SSC2X.')\n",
    "    #Set temperature\n",
    "    F2.setTemp(F2.Parameters['Staining_temperature'], chamber)\n",
    "    F2.extractDispenseSSC(1000, chamber)\n",
    "    F2.waitTemp(F2.Parameters['Staining_temperature'], chamber, error=3, sd=0.01, verbose=False)\n",
    "    \n",
    "def EEL_imagingBuffer(chamber, volume, imaging_temp):\n",
    "    \"\"\"\n",
    "    Inject imaging buffer into the chamber and set chamber to imaging temperature.\n",
    "    Input:\n",
    "    `chamber`(str): Chamber to inject. Like: 'Chamber1'.\n",
    "    `volume`(int): Volume of imaging buffer to inject.\n",
    "    `imaging_temp`(float): Temperature to perform the imaging at.\n",
    "    \n",
    "    \"\"\"\n",
    "    F2.L.logger.info('Imaging buffer injecting into {}'.format(chamber))\n",
    "    F2.setTemp(imaging_temp, chamber)\n",
    "    F2.extractDispenseBuffer('IB', volume, chamber, padding=True, same_buffer_padding=False)\n",
    "    F2.waitTemp(imaging_temp, chamber, error=3, sd=0.01, verbose=False)\n",
    "    F2.L.logger.info('Imaging buffer. Injected {}ul of imaging buffer into {}, temperature set to {}C'.format(volume, chamber, imaging_temp))\n",
    "\n",
    "def EEL_stripping(chamber, volume, cycles, stripping_temp, incubation_time=0, wash_cycles= 5):\n",
    "    \"\"\"\n",
    "    Stripping off hybridized probes. Including SSC2X wash before (to wash out IB)\n",
    "    and after.\n",
    "    Input:\n",
    "    `chamber`(str): Chamber to wash. Like: 'Chamber1'.\n",
    "    `volume`(int): Volume of SB to use per wash cycle.\n",
    "    `cycles`(int): Number of cycles to wash.\n",
    "    `incubation_time`(int): Incubation time in minutes per wash cycle.\n",
    "    `stripping_temp`(int): Temperature used for hybridization/washes in Celcius.\n",
    "    `wash_cycles`(int): Number of 1000ul washes after the striping. Default=5\n",
    "    \n",
    "    \"\"\"\n",
    "    F2.L.logger.info('Stripping {} start'.format(chamber))\n",
    "    #Wash out imaging buffer\n",
    "    for i in range(4):\n",
    "        F2.extractDispenseRunningBuffer(1000, chamber)\n",
    "    F2.extractDispenseBuffer('SB', volume, chamber, padding=True, same_buffer_padding=True, double_volume=True, m=incubation_time)\n",
    "    F2.resetReservoir(50, update_buffer=True)\n",
    "    for i in range(cycles-1):\n",
    "        F2.extractDispenseBuffer('SB', volume, chamber, padding=False, m=incubation_time)\n",
    "        F2.resetReservoir(50, update_buffer=True)   \n",
    "    #Wash out SB\n",
    "    for i in range(wash_cycles):\n",
    "        F2.extractDispenseRunningBuffer(1000, chamber)\n",
    "    F2.L.logger.info('Stripping. Washed {}, {} times with {}ul SB for {} minutes'.format(chamber, cycles, volume, incubation_time))\n",
    "    \n",
    "def EEL_hybmix(chamber, cycle, hybridization_temp, incubation_time, indirect=None,):\n",
    "    \"\"\"\n",
    "    Hybridization.\n",
    "    Input:\n",
    "    `chamber`(str): Chamber to hybridize. Like: 'Chamber1'.\n",
    "    `cycle`(int): Current staining cycle.\n",
    "    `hybridization_temp`(float): Hybridization temperature.\n",
    "    `incubation_time`(int): Hybridization time in HOURS.\n",
    "    `indirect`(str): Amplifier code. \n",
    "    \n",
    "    \"\"\"\n",
    "    F2.L.logger.info('Hybridization {}, cycle {} start dispense'.format(chamber, cycle))\n",
    "    F2.extractDispenseHybmix(chamber, cycle, slow_speed=27, prehyb=False, steps=0, h=incubation_time, indirect=indirect)\n",
    "    F2.L.logger.info('Hybridization {}, cycle {} finished'.format(chamber, cycle))\n",
    "\n"
   ]
  },
  {
   "cell_type": "code",
   "execution_count": null,
   "metadata": {},
   "outputs": [],
   "source": [
    "The issue is that it gets the waste, translates that to P4 and then thinks it has a volume\n",
    "But it should ignore this. Thus not translate 'Waste' witht the getPort to P4"
   ]
  },
  {
   "cell_type": "code",
   "execution_count": 10,
   "metadata": {},
   "outputs": [
    {
     "name": "stderr",
     "output_type": "stream",
     "text": [
      "Imaging buffer injecting into Chamber1\n",
      "    TC720 set to 22.0 degree Celsius.\n",
      "    Dispensed 600ul of IB to Chamber1 with speed 20, padding=True, same_buffer_padding=False, double_volume=False\n"
     ]
    },
    {
     "name": "stdout",
     "output_type": "stream",
     "text": [
      "Replace:\n",
      "P4: Waste, current vol: 622ml\n",
      "22-06-2020 17:24:38\n"
     ]
    },
    {
     "name": "stderr",
     "output_type": "stream",
     "text": [
      "    Chamber1 within range of target temperature 22.0C, allowed error 3C. Reached in 6 seconds after starting the waitTemp() function.\n",
      "Imaging buffer. Injected 600ul of imaging buffer into Chamber1, temperature set to 22.0C\n"
     ]
    }
   ],
   "source": [
    "def test1(chamber, cycle):\n",
    "    EEL_fi\n",
    "    EEL_hybmix(chamber, cycle, F2.Parameters['Staining_temperature'], incubation_time = F2.Parameters['Hyb_time_1_A'])\n",
    "    EEL_washBufferWash(chamber, 100, 2, 2, ) \n",
    "    EEL_imagingBuffer(chamber, 600, F2.Parameters['Imaging_temperature'])"
   ]
  },
  {
   "cell_type": "markdown",
   "metadata": {},
   "source": [
    "# Combined functions"
   ]
  },
  {
   "cell_type": "markdown",
   "metadata": {},
   "source": [
    "## Direct labeling"
   ]
  },
  {
   "cell_type": "code",
   "execution_count": null,
   "metadata": {
    "ExecuteTime": {
     "end_time": "2018-10-10T09:21:23.320980Z",
     "start_time": "2018-10-10T09:21:23.281977Z"
    }
   },
   "outputs": [],
   "source": [
    "def firstPart(chamber, cycle):\n",
    "    \"\"\"\n",
    "    Perform first part of protocol.\n",
    "    SDS-clearing, heatshock, hybridization, stringency wash, start imaging.\n",
    "    Using a direct labeling approach.\n",
    "    Input:\n",
    "    `chamber`(str): Chamber to wash. Like: 'Chamber1'.\n",
    "    `cycle`(int): Current staining cycle of experiment.\n",
    "    \n",
    "    \"\"\"\n",
    "    volume = F2.Parameters['Hybmix_volume']\n",
    "    \n",
    "    #SDSclearing(chamber, volume, cycles, incubation_time(minutes)) \n",
    "    #if chamber == 'Chamber2':\n",
    "    #SDSclearing(chamber, volume, 4, 5)\n",
    "    \n",
    "    #perif.sent_push(short_message='Starting Heat Shock, open lid.', long_message='Open the lid of the ThermoCube to release the pressure')\n",
    "    \n",
    "    #F2.extractDispenseBuffer('TE', volume, chamber, padding=True, same_buffer_padding=True)\n",
    "    #time.sleep(60)\n",
    "    #F2.extractDispenseBuffer('TE', volume, chamber, padding=False)\n",
    "    #F2.resetReservoir(50, update_buffer=True)\n",
    "    \n",
    "    #perif.sent_push(short_message='Ready for Heatshock')\n",
    "    #print('Perform heatshock in oven...')\n",
    "    #F2.L.logger.info('Heatshock performed in 70C oven for 10 minutes.')\n",
    "    #F2.L.logger.info('Manually washed with 1ml of SSC2X after reconecting using the purge valve and a syringe.')\n",
    "    \n",
    "    #input('Connect chamber, switch on TC, flush SSC2X press Enter when ready for Hybridization...')\n",
    "    F2.setTemp(F2.Parameters['Staining_temperature'], chamber)\n",
    "    #for i in range(2):\n",
    "    #    F2.extractDispenseSSC(1000, chamber)\n",
    "    F2.waitTemp(F2.Parameters['Staining_temperature'], chamber, error=3, sd=0.01, verbose=False)\n",
    "    \n",
    "    #heatShock(chamber, TE_volume, normal_temp, heatshock_temp, incubation_time(minutes))\n",
    "    #heatShock(chamber, volume, F2.Parameters['Staining_temperature'], F2.Parameters['Heatshock_temperature'], 15)\n",
    "    \n",
    "    perif.sent_push(short_message='Ready for Hyb mix')\n",
    "    #input('Everything set for hybridization?...')\n",
    "    \n",
    "    #hybridization(chamber, cycle, indirect=None, incubation_time=hours)\n",
    "    hyb_time_code = 'Hyb_time_{}_A'.format(chamber[-1])\n",
    "    hyb_time = F2.Parameters[hyb_time_code]\n",
    "    hybridization(chamber, cycle, F2.Parameters['Staining_temperature'], indirect=None, incubation_time=hyb_time)\n",
    "    \n",
    "    #washBufferWash(chamber, volume, cycles, incubation_time(minutes))\n",
    "    washBufferWash(chamber, 750, 4, 15)\n",
    "\n",
    "    #imagingBuffer(chamber, volume, imaging_temperature)\n",
    "    imagingBuffer(chamber, volume, F2.Parameters['Imaging_temperature'])\n",
    "    \n",
    "    perif.sent_push(short_message='Ready for Imaging')\n",
    "\n",
    "def repeatPart(chamber, cycle):\n",
    "    \"\"\"\n",
    "    Perform second part of protocol.\n",
    "    Stripping, hybridization, stringency wash, start imaging.\n",
    "    Using a direct labeling approach.\n",
    "    Input:\n",
    "    `chamber`(str): Chamber to wash. Like: 'Chamber1'.\n",
    "    `cycle`(int): Current cycle of experiment.\n",
    "    `volume`(int): Volume to use for all washes. Should be chamber volume.\n",
    "    `hyb_time`(int): Hybridization time in HOURS\n",
    "    \n",
    "    \"\"\"\n",
    "    \n",
    "    volume = F2.Parameters['Hybmix_volume']\n",
    "\n",
    "    #stripping(chamber, volume, cycles, stripping_temp, incubation_time=0):\n",
    "    stripping(chamber, 750, 3, F2.Parameters['Stripping_temperature'], 10)\n",
    "    F2.setTemp(F2.Parameters['Staining_temperature'], chamber)\n",
    "    \n",
    "    #perif.sent_push(short_message='Done with stripping check results')\n",
    "    #input('Press enter to continue...')\n",
    "\n",
    "    #hybridization(chamber, cycle, indirect=None, incubation_time=hours)\n",
    "    hyb_time_code = 'Hyb_time_{}_A'.format(chamber[-1])\n",
    "    hyb_time = F2.Parameters[hyb_time_code]\n",
    "    hybridization(chamber, cycle, F2.Parameters['Staining_temperature'], indirect=None, incubation_time=hyb_time)\n",
    "\n",
    "    #washBufferWash(chamber, volume, cycles, incubation_time(minutes))\n",
    "    washBufferWash(chamber, 750, 4, 15)\n",
    "\n",
    "    #imagingBuffer(chamber, volume, imaging_temp)\n",
    "    imagingBuffer(chamber, volume, F2.Parameters['Imaging_temperature'])\n",
    "\n",
    "    perif.sent_push(short_message='{} Ready for Imaging, Cycle: {}'.format(chamber, cycle))"
   ]
  },
  {
   "cell_type": "markdown",
   "metadata": {},
   "source": [
    "## Indirect labeling"
   ]
  },
  {
   "cell_type": "code",
   "execution_count": null,
   "metadata": {
    "ExecuteTime": {
     "end_time": "2019-05-07T09:52:45.710295Z",
     "start_time": "2019-05-07T09:52:45.556489Z"
    },
    "collapsed": true,
    "jupyter": {
     "outputs_hidden": true
    },
    "scrolled": true
   },
   "outputs": [],
   "source": [
    "def firstPart_indirect(chamber, cycle):\n",
    "    \"\"\"\n",
    "    Perform first part of protocol.\n",
    "    SDS-clearing, heatshock, hybridization encoding probe, stringency wash,\n",
    "    Hybridization readout probe, stringency wash, start imaging.\n",
    "    Using a indirect labeling approach.\n",
    "    Input:\n",
    "    `chamber`(str): Chamber to wash. Like: 'Chamber1'.\n",
    "    `cycle`(int): Current staining cycle of experiment.\n",
    "    \n",
    "    \"\"\"\n",
    "    volume = F2.Parameters['Hybmix_volume']\n",
    "    F2.extractDispenseSSC(1000, chamber)\n",
    "    \n",
    "    #________________________________________________________________________\n",
    "    #SDS clearing\n",
    "    #SDSclearing(chamber, volume, cycles, incubation_time=0)\n",
    "    SDSclearing(chamber, volume, 4, incubation_time=5)\n",
    "    \n",
    "    #________________________________________________________________________\n",
    "    #Heatshock\n",
    "    #heatShock(chamber, TE_volume, staining_temp, heatshock_temp, incubation_time=0)\n",
    "    heatShock(chamber, volume, F2.Parameters['Staining_temperature'], F2.Parameters['Heatshock_temperature'], incubation_time=10)\n",
    "    \n",
    "    #________________________________________________________________________\n",
    "    #Hybridization encoding probes\n",
    "    #hybridization(chamber, cycle, hybridization_temp, indirect=None, incubation_time=hours)\n",
    "    hyb_time_code = 'Hyb_time_{}_A'.format(chamber[-1])\n",
    "    hyb_time = F2.Parameters[hyb_time_code]\n",
    "    #input('Ready for hybridization?...')\n",
    "    if chamber != 'Chamber1':\n",
    "        hybridization(chamber, cycle, F2.Parameters['Staining_temperature'], indirect='A', incubation_time=hyb_time)\n",
    "    else:\n",
    "        F2.L.logger.info('!!!!! Already performed hybrdiziation C1H01, restart after error in code')\n",
    "        F2.setTemp(F2.Parameters['Staining_temperature'], chamber)\n",
    "        F2.waitTemp(F2.Parameters['Staining_temperature'], chamber, error=3, sd=0.01, verbose=False)\n",
    "\n",
    "    #washBufferWash(chamber, volume, cycles, incubation_time(minutes))\n",
    "    #washBufferWash(chamber, volume, 4, 15) \n",
    "    washBufferWash(chamber, 750, 6, 10) \n",
    "    \n",
    "    #________________________________________________________________________\n",
    "    #Hybridization amplifier probes A\n",
    "    #hybridization(chamber, cycle, hybridization_temp, indirect=None, incubation_time=hours)\n",
    "    F2.L.logger.info('Amplifier A start dispence {}'.format(chamber))\n",
    "    F2.extractDispenseSSC(1000, chamber)\n",
    "    hyb_time_code = 'Hyb_time_{}_B'.format(chamber[-1])\n",
    "    hyb_time = F2.Parameters[hyb_time_code]\n",
    "    #hybridization(chamber, cycle, F2.Parameters['Staining_temperature'], indirect='B', incubation_time=hyb_time)\n",
    "    F2.extractDispenseBuffer('AMPA', 600, chamber, h=hyb_time)\n",
    "    F2.L.logger.info('Amplifier B in {} hybridized for {}hours.'.format(chamber, hyb_time))\n",
    "    #washBufferWash(chamber, volume, cycles, incubation_time(minutes))\n",
    "    washBufferWash(chamber, 750, 4, 10)\n",
    "    \n",
    "    #________________________________________________________________________\n",
    "    #Hybridization amplifier probes B\n",
    "    #hybridization(chamber, cycle, hybridization_temp, indirect=None, incubation_time=hours)\n",
    "    F2.L.logger.info('Amplifier B start dispence {}'.format(chamber))\n",
    "    F2.extractDispenseSSC(1000, chamber)\n",
    "    hyb_time_code = 'Hyb_time_{}_B'.format(chamber[-1])\n",
    "    hyb_time = F2.Parameters[hyb_time_code]\n",
    "    #hybridization(chamber, cycle, F2.Parameters['Staining_temperature'], indirect='B', incubation_time=hyb_time)\n",
    "    F2.extractDispenseBuffer('AMPB', 600, chamber, h=hyb_time)\n",
    "    F2.L.logger.info('Amplifier B in {} hybridized for {}hours.'.format(chamber, hyb_time))\n",
    "    #washBufferWash(chamber, volume, cycles, incubation_time(minutes))\n",
    "    washBufferWash(chamber, 750, 4, 10) \n",
    "    \n",
    "    #________________________________________________________________________\n",
    "    #Hybridization readout probes\n",
    "    #hybridization(chamber, cycle, hybridization_temp, indirect=None, incubation_time=hours)\n",
    "    F2.extractDispenseSSC(1000, chamber)\n",
    "    hyb_time_code = 'Hyb_time_{}_C'.format(chamber[-1])\n",
    "    hyb_time = F2.Parameters[hyb_time_code]\n",
    "    hybridization(chamber, cycle, F2.Parameters['Readout_temperature'], indirect='C', incubation_time=hyb_time)\n",
    "    \n",
    "    F2.setTemp(25, chamber)\n",
    "    F2.waitTemp(25, chamber, error=3, sd=0.01, verbose=False)\n",
    "    \n",
    "    #washBufferWash(chamber, volume, cycles, incubation_time(minutes))\n",
    "    #washBufferWash(chamber, volume, 4, 15)\n",
    "    washBufferWash(chamber, 750, 4, 10) \n",
    "    \n",
    "    #________________________________________________________________________\n",
    "    #imagingBuffer(chamber, volume, imaging_temp)\n",
    "    imagingBuffer(chamber, 750, F2.Parameters['Imaging_temperature'])\n",
    "    F2.push(short_message='{} Ready for Imaging round: {}'.format(chamber, cycle))\n",
    "\n",
    "def repeatPart_indirect(chamber, cycle):\n",
    "    \"\"\"\n",
    "    Perform second part of protocol.\n",
    "    Stripping, hybridization, stringency wash, start imaging.\n",
    "    Using a direct labeling approach.\n",
    "    Input:\n",
    "    `chamber`(str): Chamber to wash. Like: 'Chamber1'.\n",
    "    `cycle`(int): Current cycle of experiment.\n",
    "    `volume`(int): Volume to use for all washes. Should be chamber volume.\n",
    "    `hyb_time`(int): Hybridization time in HOURS\n",
    "    \n",
    "    \"\"\"\n",
    "    \n",
    "    volume = F2.Parameters['Hybmix_volume']\n",
    "\n",
    "    #stripping(chamber, volume, cycles, stripping_temp, incubation_time=0):\n",
    "    stripping(chamber, 750, 3, F2.Parameters['Stripping_temperature'], 10)\n",
    "\n",
    "    #________________________________________________________________________\n",
    "    #Hybridization encoding probes\n",
    "    #hybridization(chamber, cycle, hybridization_temp, indirect=None, incubation_time=hours)\n",
    "    F2.extractDispenseSSC(1000, chamber)\n",
    "    hyb_time_code = 'Hyb_time_{}_A'.format(chamber[-1])\n",
    "    hyb_time = F2.Parameters[hyb_time_code]\n",
    "    #input('Ready for hybridization?...')\n",
    "    hybridization(chamber, cycle, F2.Parameters['Staining_temperature'], indirect='A', incubation_time=hyb_time)\n",
    "\n",
    "    #washBufferWash(chamber, volume, cycles, incubation_time(minutes))\n",
    "    #washBufferWash(chamber, volume, 4, 15) \n",
    "    washBufferWash(chamber, 750, 6, 10) \n",
    "    \n",
    "    #________________________________________________________________________\n",
    "    #Hybridization amplifier probes A\n",
    "    #hybridization(chamber, cycle, hybridization_temp, indirect=None, incubation_time=hours)\n",
    "    F2.L.logger.info('Amplifier A start dispence {}'.format(chamber))\n",
    "    F2.extractDispenseSSC(1000, chamber)\n",
    "    hyb_time_code = 'Hyb_time_{}_B'.format(chamber[-1])\n",
    "    hyb_time = F2.Parameters[hyb_time_code]\n",
    "    #hybridization(chamber, cycle, F2.Parameters['Staining_temperature'], indirect='B', incubation_time=hyb_time)\n",
    "    F2.extractDispenseBuffer('AMPA', 600, chamber, h=hyb_time)\n",
    "    F2.L.logger.info('Amplifier A in {} hybridized for {}hours.'.format(chamber, hyb_time))\n",
    "    #washBufferWash(chamber, volume, cycles, incubation_time(minutes))\n",
    "    washBufferWash(chamber, 750, 4, 10)\n",
    "    \n",
    "    \n",
    "    #________________________________________________________________________\n",
    "    #Hybridization amplifier probes B\n",
    "    #hybridization(chamber, cycle, hybridization_temp, indirect=None, incubation_time=hours)\n",
    "    F2.L.logger.info('Amplifier B start dispence {}'.format(chamber))\n",
    "    F2.extractDispenseSSC(1000, chamber)\n",
    "    hyb_time_code = 'Hyb_time_{}_B'.format(chamber[-1])\n",
    "    hyb_time = F2.Parameters[hyb_time_code]\n",
    "    #hybridization(chamber, cycle, F2.Parameters['Staining_temperature'], indirect='B', incubation_time=hyb_time)\n",
    "    F2.extractDispenseBuffer('AMPB', 600, chamber, h=hyb_time)\n",
    "    F2.L.logger.info('Amplifier B in {} hybridized for {}hours.'.format(chamber, hyb_time))\n",
    "    #washBufferWash(chamber, volume, cycles, incubation_time(minutes))\n",
    "    washBufferWash(chamber, 750, 4, 10)\n",
    "    \n",
    "    #________________________________________________________________________\n",
    "    #Hybridization readout probes\n",
    "    #hybridization(chamber, cycle, hybridization_temp, indirect=None, incubation_time=hours)\n",
    "    F2.extractDispenseSSC(1000, chamber)\n",
    "    hyb_time_code = 'Hyb_time_{}_C'.format(chamber[-1])\n",
    "    hyb_time = F2.Parameters[hyb_time_code]\n",
    "    hybridization(chamber, cycle, F2.Parameters['Readout_temperature'], indirect='C', incubation_time=hyb_time)\n",
    "    \n",
    "    F2.setTemp(25, chamber)\n",
    "    F2.waitTemp(25, chamber, error=3, sd=0.01, verbose=False)\n",
    "    \n",
    "    #washBufferWash(chamber, volume, cycles, incubation_time(minutes))\n",
    "    #washBufferWash(chamber, volume, 4, 15)\n",
    "    washBufferWash(chamber, 750, 4, 10) \n",
    "\n",
    "    #________________________________________________________________________\n",
    "    #imagingBuffer(chamber, volume, imaging_temp)\n",
    "    imagingBuffer(chamber, 750, F2.Parameters['Imaging_temperature'])\n",
    "    F2.push(short_message='{} Ready for Imaging round: {}'.format(chamber, cycle))"
   ]
  },
  {
   "cell_type": "markdown",
   "metadata": {},
   "source": [
    "# EEL"
   ]
  },
  {
   "cell_type": "code",
   "execution_count": 8,
   "metadata": {},
   "outputs": [],
   "source": [
    "def EEL_readout(chamber, cycle):\n",
    "    \n",
    "    volume = F2.Parameters['Hybmix_volume']\n",
    "    #Set temperature\n",
    "    F2.setTemp(F2.Parameters['Staining_temperature'], chamber)\n",
    "    F2.waitTemp(F2.Parameters['Staining_temperature'], chamber, error=3, sd=0.01, verbose=False)\n",
    "    \n",
    "    F2.extractDispenseSSC(1000, chamber)\n",
    "    #Washing\n",
    "    EEL_washBufferWash(chamber, 600, 4, 15, buffer='SB') \n",
    "    F2.L.logger.info('Replaced 30% formamide WB which was in the SB buffer line, to the TCEP stripping buffer')\n",
    "     \n",
    "    #PFA fization\n",
    "    EEL_fix(chamber)\n",
    "    \n",
    "    \n",
    "    #Hybridization\n",
    "    hyb_time_code = 'Hyb_time_{}_A'.format(chamber[-1])\n",
    "    hyb_time = F2.Parameters[hyb_time_code]\n",
    "    EEL_hybmix(chamber, cycle, F2.Parameters['Staining_temperature'], hyb_time)\n",
    "    #Washing\n",
    "    \n",
    "    EEL_washBufferWash(chamber, 600, 3, 3)\n",
    "    \n",
    "    #Imaging\n",
    "    EEL_imagingBuffer(chamber, 600, F2.Parameters['Imaging_temperature'])\n",
    "    F2.push(F2.Operator_address, short_message='{} Ready for Imaging round: {}'.format(chamber, cycle))\n",
    "    \n",
    "    \n",
    "    \n",
    "def EEL_readout_repeat(chamber, cycle):\n",
    "    \n",
    "    volume = F2.Parameters['Hybmix_volume']\n",
    "      \n",
    "    #stripping\n",
    "    EEL_stripping(chamber, 600, 2, F2.Parameters['Stripping_temperature'], 10, wash_cycles=10)\n",
    "    if cycle == 2:\n",
    "        F2.push(F2.Operator_address, short_message='{} Performed first stripping {}'.format(chamber, cycle))\n",
    "        input('Press enter to continue...')\n",
    "    #Wash out IB if stripping is not performed seperately\n",
    "    #for i in range(4):\n",
    "    #    F2.extractDispenseSSC(1000, chamber)\n",
    "        \n",
    "    #Set temperature\n",
    "    F2.setTemp(F2.Parameters['Staining_temperature'], chamber)\n",
    "    F2.waitTemp(F2.Parameters['Staining_temperature'], chamber, error=3, sd=0.01, verbose=False)\n",
    "    \n",
    "    #Hybridization\n",
    "    hyb_time_code = 'Hyb_time_{}_A'.format(chamber[-1])\n",
    "    hyb_time = F2.Parameters[hyb_time_code]\n",
    "    EEL_hybmix(chamber, cycle, F2.Parameters['Staining_temperature'], hyb_time)\n",
    "    \n",
    "    #Washing\n",
    "    EEL_washBufferWash(chamber, 600, 3, 3) \n",
    "    \n",
    "    #Imaging\n",
    "    EEL_imagingBuffer(chamber, 600, F2.Parameters['Imaging_temperature'])\n",
    "    F2._push(F2.Operator_address, short_message='{} Ready for Imaging round: {}'.format(chamber, cycle))"
   ]
  },
  {
   "cell_type": "markdown",
   "metadata": {},
   "source": [
    "# EEL Displacement experiment"
   ]
  },
  {
   "cell_type": "code",
   "execution_count": 21,
   "metadata": {},
   "outputs": [
    {
     "name": "stderr",
     "output_type": "stream",
     "text": [
      "Formamide in hybridization mix: 30%\n",
      "    TC720 set to 37.0 degree Celsius.\n"
     ]
    },
    {
     "ename": "KeyboardInterrupt",
     "evalue": "",
     "output_type": "error",
     "traceback": [
      "\u001b[1;31m---------------------------------------------------------------------------\u001b[0m",
      "\u001b[1;31mKeyboardInterrupt\u001b[0m                         Traceback (most recent call last)",
      "\u001b[1;32m<ipython-input-21-064120d298fc>\u001b[0m in \u001b[0;36m<module>\u001b[1;34m\u001b[0m\n\u001b[0;32m      7\u001b[0m \u001b[1;31m#Set temperature\u001b[0m\u001b[1;33m\u001b[0m\u001b[1;33m\u001b[0m\u001b[1;33m\u001b[0m\u001b[0m\n\u001b[0;32m      8\u001b[0m \u001b[0mF2\u001b[0m\u001b[1;33m.\u001b[0m\u001b[0msetTemp\u001b[0m\u001b[1;33m(\u001b[0m\u001b[0mF2\u001b[0m\u001b[1;33m.\u001b[0m\u001b[0mParameters\u001b[0m\u001b[1;33m[\u001b[0m\u001b[1;34m'Staining_temperature'\u001b[0m\u001b[1;33m]\u001b[0m\u001b[1;33m,\u001b[0m \u001b[0mchamber\u001b[0m\u001b[1;33m)\u001b[0m\u001b[1;33m\u001b[0m\u001b[1;33m\u001b[0m\u001b[0m\n\u001b[1;32m----> 9\u001b[1;33m \u001b[0mF2\u001b[0m\u001b[1;33m.\u001b[0m\u001b[0mwaitTemp\u001b[0m\u001b[1;33m(\u001b[0m\u001b[0mF2\u001b[0m\u001b[1;33m.\u001b[0m\u001b[0mParameters\u001b[0m\u001b[1;33m[\u001b[0m\u001b[1;34m'Staining_temperature'\u001b[0m\u001b[1;33m]\u001b[0m\u001b[1;33m,\u001b[0m \u001b[0mchamber\u001b[0m\u001b[1;33m,\u001b[0m \u001b[0merror\u001b[0m\u001b[1;33m=\u001b[0m\u001b[1;36m3\u001b[0m\u001b[1;33m,\u001b[0m \u001b[0msd\u001b[0m\u001b[1;33m=\u001b[0m\u001b[1;36m0.01\u001b[0m\u001b[1;33m,\u001b[0m \u001b[0mverbose\u001b[0m\u001b[1;33m=\u001b[0m\u001b[1;32mFalse\u001b[0m\u001b[1;33m)\u001b[0m\u001b[1;33m\u001b[0m\u001b[1;33m\u001b[0m\u001b[0m\n\u001b[0m\u001b[0;32m     10\u001b[0m '''\n\u001b[0;32m     11\u001b[0m \u001b[1;31m#Washing\u001b[0m\u001b[1;33m\u001b[0m\u001b[1;33m\u001b[0m\u001b[1;33m\u001b[0m\u001b[0m\n",
      "\u001b[1;32m~\\Desktop\\ROBOFISH\\FISH2_functions.py\u001b[0m in \u001b[0;36mwaitTemp\u001b[1;34m(self, target_temp, chamber, error, array_size, sd, verbose)\u001b[0m\n\u001b[0;32m   1597\u001b[0m                 \u001b[0mexecute_time\u001b[0m \u001b[1;33m=\u001b[0m \u001b[1;36m0.001\u001b[0m\u001b[1;33m\u001b[0m\u001b[1;33m\u001b[0m\u001b[0m\n\u001b[0;32m   1598\u001b[0m             \u001b[1;31m# Check every second\u001b[0m\u001b[1;33m\u001b[0m\u001b[1;33m\u001b[0m\u001b[1;33m\u001b[0m\u001b[0m\n\u001b[1;32m-> 1599\u001b[1;33m             \u001b[0mtime\u001b[0m\u001b[1;33m.\u001b[0m\u001b[0msleep\u001b[0m\u001b[1;33m(\u001b[0m\u001b[1;36m1\u001b[0m\u001b[1;33m-\u001b[0m\u001b[0mexecute_time\u001b[0m\u001b[1;33m)\u001b[0m\u001b[1;33m\u001b[0m\u001b[1;33m\u001b[0m\u001b[0m\n\u001b[0m\u001b[0;32m   1600\u001b[0m         \u001b[0mself\u001b[0m\u001b[1;33m.\u001b[0m\u001b[0mL\u001b[0m\u001b[1;33m.\u001b[0m\u001b[0mlogger\u001b[0m\u001b[1;33m.\u001b[0m\u001b[0minfo\u001b[0m\u001b[1;33m(\u001b[0m\u001b[1;34m'    {} within range of target temperature {}C, allowed error {}C. Reached in {} seconds after starting the waitTemp() function.'\u001b[0m\u001b[1;33m.\u001b[0m\u001b[0mformat\u001b[0m\u001b[1;33m(\u001b[0m\u001b[0mchamber\u001b[0m\u001b[1;33m,\u001b[0m \u001b[0mtarget_temp\u001b[0m\u001b[1;33m,\u001b[0m \u001b[0merror\u001b[0m\u001b[1;33m,\u001b[0m \u001b[0mcounter\u001b[0m\u001b[1;33m)\u001b[0m\u001b[1;33m)\u001b[0m\u001b[1;33m\u001b[0m\u001b[1;33m\u001b[0m\u001b[0m\n\u001b[0;32m   1601\u001b[0m \u001b[1;33m\u001b[0m\u001b[0m\n",
      "\u001b[1;31mKeyboardInterrupt\u001b[0m: "
     ]
    }
   ],
   "source": [
    "volume = F2.Parameters['Hybmix_volume']\n",
    "chamber = 'Chamber1'\n",
    "cycle = 4\n",
    "F2.L.logger.info('Formamide in hybridization mix: 30%')\n",
    "\n",
    "\n",
    "#Set temperature\n",
    "F2.setTemp(F2.Parameters['Staining_temperature'], chamber)\n",
    "F2.waitTemp(F2.Parameters['Staining_temperature'], chamber, error=3, sd=0.01, verbose=False)\n",
    "'''\n",
    "#Washing\n",
    "EEL_washBufferWash(chamber, 600, 4, 15, buffer='SB') \n",
    "\n",
    "#Manual Fixation\n",
    "F2.push(F2.Operator_address, short_message='Fixation chamber{}'.format(chamber), long_message='Manually fix 10 minutes with 4% PFA in 1X PBS. Afterwards flush with SSC2X')\n",
    "#Set temperature\n",
    "F2.setTemp(F2.Parameters['Imaging_temperature'], chamber)\n",
    "F2.waitTemp(F2.Parameters['Imaging_temperature'], chamber, error=3, sd=0.01, verbose=False)\n",
    "input('Perform Fixation. Press enter when done with fixation...')\n",
    "F2.L.logger.info('Manually fixed 10 minutes with 4% PFA in 1X PBS.')\n",
    "F2.L.logger.info('Manually flushed with PBS and SSC2X.')\n",
    "F2.extractDispenseSSC(1000, chamber)\n",
    "#Set temperature\n",
    "F2.setTemp(F2.Parameters['Staining_temperature'], chamber)\n",
    "F2.waitTemp(F2.Parameters['Staining_temperature'], chamber, error=3, sd=0.01, verbose=False)\n",
    "'''\n",
    "\n",
    "#Hybridization\n",
    "hyb_time_code = 'Hyb_time_{}_A'.format(chamber[-1])\n",
    "hyb_time = F2.Parameters[hyb_time_code]\n",
    "F2.L.logger.info('Hybridizing with readout 13 for Actb')\n",
    "EEL_hybmix(chamber, cycle, F2.Parameters['Staining_temperature'], hyb_time)\n",
    "\n",
    "#Washing\n",
    "EEL_washBufferWash(chamber, 600, 3, 3)\n",
    "\n",
    "F2.push(F2.Operator_address, short_message='{} Ready for strand displacement'.format(chamber))\n",
    "input('Manually inject the hybmix with strand displacer and start imaging...')\n",
    "F2.L.logger.info('Manually injected the hybmix with strand displacers and imaged.')\n"
   ]
  },
  {
   "cell_type": "markdown",
   "metadata": {},
   "source": [
    "## Manual round"
   ]
  },
  {
   "cell_type": "code",
   "execution_count": null,
   "metadata": {
    "ExecuteTime": {
     "end_time": "2019-05-08T14:43:22.765881Z",
     "start_time": "2019-05-08T12:01:48.343242Z"
    },
    "collapsed": true,
    "jupyter": {
     "outputs_hidden": true
    }
   },
   "outputs": [],
   "source": [
    "chamber='Chamber1'\n",
    "cycle=3\n",
    "\n",
    "F2.extractDispenseSSC(1000, chamber)\n",
    "hyb_time_code = 'Hyb_time_{}_C'.format(chamber[-1])\n",
    "hyb_time = F2.Parameters[hyb_time_code]\n",
    "hybridization(chamber, cycle, F2.Parameters['Readout_temperature'], indirect='C', incubation_time=hyb_time)\n",
    "\n",
    "F2.setTemp(25, chamber)\n",
    "F2.waitTemp(25, chamber, error=3, sd=0.01, verbose=False)\n",
    "\n",
    "#washBufferWash(chamber, volume, cycles, incubation_time(minutes))\n",
    "#washBufferWash(chamber, volume, 4, 15)\n",
    "washBufferWash(chamber, 750, 4, 10) \n",
    "\n",
    "#________________________________________________________________________\n",
    "#imagingBuffer(chamber, volume, imaging_temp)\n",
    "imagingBuffer(chamber, 750, F2.Parameters['Imaging_temperature'])\n",
    "F2.push(short_message='{} Ready for Imaging round: {}'.format(chamber, cycle))"
   ]
  },
  {
   "cell_type": "code",
   "execution_count": null,
   "metadata": {
    "ExecuteTime": {
     "end_time": "2019-05-08T07:43:20.443076Z",
     "start_time": "2019-05-07T17:01:38.646907Z"
    },
    "collapsed": true,
    "jupyter": {
     "outputs_hidden": true
    }
   },
   "outputs": [],
   "source": [
    "chamber='Chamber1'\n",
    "cycle=2\n",
    "\n",
    "#F2.setTemp(37, chamber)\n",
    "#F2.waitTemp(37, chamber)\n",
    "F2.extractDispenseSSC(1000, chamber)\n",
    "\n",
    "volume = F2.Parameters['Hybmix_volume']\n",
    "\n",
    "#stripping(chamber, volume, cycles, stripping_temp, incubation_time=0):\n",
    "stripping(chamber, 750, 3, F2.Parameters['Stripping_temperature'], 10)\n",
    "\n",
    "#________________________________________________________________________\n",
    "#Hybridization encoding probes\n",
    "#hybridization(chamber, cycle, hybridization_temp, indirect=None, incubation_time=hours)\n",
    "F2.extractDispenseSSC(1000, chamber)\n",
    "hyb_time_code = 'Hyb_time_{}_A'.format(chamber[-1])\n",
    "hyb_time = F2.Parameters[hyb_time_code]\n",
    "#input('Ready for hybridization?...')\n",
    "hybridization(chamber, cycle, F2.Parameters['Staining_temperature'], indirect='A', incubation_time=hyb_time)\n",
    "\n",
    "#washBufferWash(chamber, volume, cycles, incubation_time(minutes))\n",
    "#washBufferWash(chamber, volume, 4, 15) \n",
    "washBufferWash(chamber, 750, 6, 10) \n",
    "\n",
    "\n",
    "#________________________________________________________________________\n",
    "#Hybridization amplifier probes A\n",
    "#hybridization(chamber, cycle, hybridization_temp, indirect=None, incubation_time=hours)\n",
    "F2.L.logger.info('Amplifier A start dispence {}'.format(chamber))\n",
    "F2.extractDispenseSSC(1000, chamber)\n",
    "hyb_time_code = 'Hyb_time_{}_B'.format(chamber[-1])\n",
    "hyb_time = F2.Parameters[hyb_time_code]\n",
    "#hybridization(chamber, cycle, F2.Parameters['Staining_temperature'], indirect='B', incubation_time=hyb_time)\n",
    "F2.extractDispenseBuffer('AMPA', 600, chamber, h=hyb_time)\n",
    "F2.L.logger.info('Amplifier B 1/10th concentration in {} hybridized for {}hours.'.format(chamber, hyb_time))\n",
    "#washBufferWash(chamber, volume, cycles, incubation_time(minutes))\n",
    "washBufferWash(chamber, 750, 4, 10)\n",
    "\n",
    "\n",
    "#________________________________________________________________________\n",
    "#Hybridization readout probes\n",
    "#hybridization(chamber, cycle, hybridization_temp, indirect=None, incubation_time=hours)\n",
    "F2.extractDispenseSSC(1000, chamber)\n",
    "hyb_time_code = 'Hyb_time_{}_C'.format(chamber[-1])\n",
    "hyb_time = F2.Parameters[hyb_time_code]\n",
    "hybridization(chamber, cycle, F2.Parameters['Readout_temperature'], indirect='C', incubation_time=hyb_time)\n",
    "\n",
    "F2.setTemp(25, chamber)\n",
    "F2.waitTemp(25, chamber, error=3, sd=0.01, verbose=False)\n",
    "\n",
    "#washBufferWash(chamber, volume, cycles, incubation_time(minutes))\n",
    "#washBufferWash(chamber, volume, 4, 15)\n",
    "washBufferWash(chamber, 750, 4, 10) \n",
    "\n",
    "#________________________________________________________________________\n",
    "#imagingBuffer(chamber, volume, imaging_temp)\n",
    "imagingBuffer(chamber, 750, F2.Parameters['Imaging_temperature'])\n",
    "F2.push(short_message='{} Ready for Imaging round: {}'.format(chamber, cycle))\n",
    "\n",
    "F2.secure_sleep((20*60*60))"
   ]
  },
  {
   "cell_type": "markdown",
   "metadata": {
    "ExecuteTime": {
     "end_time": "2017-04-05T16:02:34.263215",
     "start_time": "2017-04-05T16:02:34.261215"
    }
   },
   "source": [
    "# Scheduler"
   ]
  },
  {
   "cell_type": "code",
   "execution_count": 6,
   "metadata": {},
   "outputs": [
    {
     "name": "stderr",
     "output_type": "stream",
     "text": [
      "Start new experiment, start with chamber 1.\n"
     ]
    },
    {
     "ename": "TypeError",
     "evalue": "bad operand type for unary -: 'NoneType'",
     "output_type": "error",
     "traceback": [
      "\u001b[1;31m---------------------------------------------------------------------------\u001b[0m",
      "\u001b[1;31mTypeError\u001b[0m                                 Traceback (most recent call last)",
      "\u001b[1;32m<ipython-input-6-ba489f4a1e2b>\u001b[0m in \u001b[0;36m<module>\u001b[1;34m\u001b[0m\n\u001b[0;32m      5\u001b[0m     \u001b[0mprint\u001b[0m\u001b[1;33m(\u001b[0m\u001b[1;34m'\\n####  Placeholder2 {}  {}  ####\\n'\u001b[0m\u001b[1;33m.\u001b[0m\u001b[0mformat\u001b[0m\u001b[1;33m(\u001b[0m\u001b[0ma\u001b[0m\u001b[1;33m,\u001b[0m\u001b[0mb\u001b[0m\u001b[1;33m)\u001b[0m\u001b[1;33m)\u001b[0m\u001b[1;33m\u001b[0m\u001b[1;33m\u001b[0m\u001b[0m\n\u001b[0;32m      6\u001b[0m \u001b[1;33m\u001b[0m\u001b[0m\n\u001b[1;32m----> 7\u001b[1;33m \u001b[0mF2\u001b[0m\u001b[1;33m.\u001b[0m\u001b[0mscheduler\u001b[0m\u001b[1;33m(\u001b[0m\u001b[0mplaceholder1\u001b[0m\u001b[1;33m,\u001b[0m \u001b[0mplaceholder2\u001b[0m\u001b[1;33m)\u001b[0m\u001b[1;33m\u001b[0m\u001b[1;33m\u001b[0m\u001b[0m\n\u001b[0m",
      "\u001b[1;32m~\\Desktop\\ROBOFISH_next\\FISH2_functions.py\u001b[0m in \u001b[0;36mscheduler\u001b[1;34m(self, function1, function2, remove_experiment, current_1, current_2, start_with)\u001b[0m\n\u001b[0;32m   1907\u001b[0m \u001b[1;33m\u001b[0m\u001b[0m\n\u001b[0;32m   1908\u001b[0m         \u001b[0mcur_stain\u001b[0m \u001b[1;33m=\u001b[0m \u001b[0mcur_exp\u001b[0m\u001b[1;33m[\u001b[0m\u001b[1;34m'Current_staining'\u001b[0m\u001b[1;33m]\u001b[0m\u001b[1;33m\u001b[0m\u001b[1;33m\u001b[0m\u001b[0m\n\u001b[1;32m-> 1909\u001b[1;33m         \u001b[0mother\u001b[0m \u001b[1;33m=\u001b[0m \u001b[1;33m-\u001b[0m\u001b[0mcur_stain\u001b[0m \u001b[1;33m+\u001b[0m \u001b[1;36m3\u001b[0m  \u001b[1;31m#Reverse 1-->2   2-->1\u001b[0m\u001b[1;33m\u001b[0m\u001b[1;33m\u001b[0m\u001b[0m\n\u001b[0m\u001b[0;32m   1910\u001b[0m \u001b[1;33m\u001b[0m\u001b[0m\n\u001b[0;32m   1911\u001b[0m         \u001b[1;31m# Infinite cycle to perform all experiments. Can be left on for multiple experiments.\u001b[0m\u001b[1;33m\u001b[0m\u001b[1;33m\u001b[0m\u001b[1;33m\u001b[0m\u001b[0m\n",
      "\u001b[1;31mTypeError\u001b[0m: bad operand type for unary -: 'NoneType'"
     ]
    }
   ],
   "source": [
    "def placeholder1(a, b):\n",
    "    print('\\n####  Placeholder1 {} {}  ####\\n'.format(a,b))\n",
    "\n",
    "def placeholder2(a, b):\n",
    "    print('\\n####  Placeholder2 {}  {}  ####\\n'.format(a,b))    \n",
    "    \n",
    "F2.scheduler(placeholder1, placeholder2)"
   ]
  },
  {
   "cell_type": "code",
   "execution_count": 4,
   "metadata": {},
   "outputs": [
    {
     "name": "stdout",
     "output_type": "stream",
     "text": [
      "5\n",
      "12\n"
     ]
    }
   ],
   "source": [
    "def a(x):\n",
    "    print(x)\n",
    "\n",
    "def b(x):\n",
    "    print(x)\n",
    "    \n",
    "def test(f1, f2):\n",
    "    q = 5\n",
    "    w = 6\n",
    "    f1(q)\n",
    "    f2(w*2)\n",
    "    \n",
    "test(a, b)"
   ]
  },
  {
   "cell_type": "code",
   "execution_count": null,
   "metadata": {},
   "outputs": [],
   "source": [
    "F2.cu"
   ]
  },
  {
   "cell_type": "code",
   "execution_count": null,
   "metadata": {},
   "outputs": [],
   "source": []
  },
  {
   "cell_type": "code",
   "execution_count": 1,
   "metadata": {
    "ExecuteTime": {
     "end_time": "2019-05-07T09:47:08.479268Z",
     "start_time": "2019-05-06T15:38:02.019185Z"
    }
   },
   "outputs": [
    {
     "ename": "NameError",
     "evalue": "name 'F2' is not defined",
     "output_type": "error",
     "traceback": [
      "\u001b[1;31m---------------------------------------------------------------------------\u001b[0m",
      "\u001b[1;31mNameError\u001b[0m                                 Traceback (most recent call last)",
      "\u001b[1;32m<ipython-input-1-158d944bbd42>\u001b[0m in \u001b[0;36m<module>\u001b[1;34m\u001b[0m\n\u001b[0;32m    107\u001b[0m     'Current_staining' : 'None'}\n\u001b[0;32m    108\u001b[0m \u001b[1;33m\u001b[0m\u001b[0m\n\u001b[1;32m--> 109\u001b[1;33m \u001b[0mupdateCurExp\u001b[0m\u001b[1;33m(\u001b[0m\u001b[1;33m)\u001b[0m\u001b[1;33m\u001b[0m\u001b[1;33m\u001b[0m\u001b[0m\n\u001b[0m\u001b[0;32m    110\u001b[0m \u001b[1;33m\u001b[0m\u001b[0m\n\u001b[0;32m    111\u001b[0m \u001b[1;31m#check exp number to see if there are one or two experiments to run.\u001b[0m\u001b[1;33m\u001b[0m\u001b[1;33m\u001b[0m\u001b[1;33m\u001b[0m\u001b[0m\n",
      "\u001b[1;32m<ipython-input-1-158d944bbd42>\u001b[0m in \u001b[0;36mupdateCurExp\u001b[1;34m()\u001b[0m\n\u001b[0;32m     78\u001b[0m \u001b[1;33m\u001b[0m\u001b[0m\n\u001b[0;32m     79\u001b[0m     \"\"\"\n\u001b[1;32m---> 80\u001b[1;33m     \u001b[0mF2\u001b[0m\u001b[1;33m.\u001b[0m\u001b[0mupdateExperimentalParameters\u001b[0m\u001b[1;33m(\u001b[0m\u001b[0mF2\u001b[0m\u001b[1;33m.\u001b[0m\u001b[0mdb_path\u001b[0m\u001b[1;33m,\u001b[0m \u001b[0mignore_flags\u001b[0m\u001b[1;33m=\u001b[0m\u001b[1;32mTrue\u001b[0m\u001b[1;33m)\u001b[0m\u001b[1;33m\u001b[0m\u001b[1;33m\u001b[0m\u001b[0m\n\u001b[0m\u001b[0;32m     81\u001b[0m     \u001b[1;32mfor\u001b[0m \u001b[0mk\u001b[0m \u001b[1;32min\u001b[0m \u001b[0mcur_exp\u001b[0m\u001b[1;33m:\u001b[0m\u001b[1;33m\u001b[0m\u001b[1;33m\u001b[0m\u001b[0m\n\u001b[0;32m     82\u001b[0m         \u001b[1;32mif\u001b[0m \u001b[0mk\u001b[0m \u001b[1;32min\u001b[0m \u001b[0mF2\u001b[0m\u001b[1;33m.\u001b[0m\u001b[0mParameters\u001b[0m\u001b[1;33m:\u001b[0m\u001b[1;33m\u001b[0m\u001b[1;33m\u001b[0m\u001b[0m\n",
      "\u001b[1;31mNameError\u001b[0m: name 'F2' is not defined"
     ]
    }
   ],
   "source": [
    "def get_targets(code):\n",
    "    \"\"\"\n",
    "    Retrieve the targets of a specific chamber and hybridization round.\n",
    "    Input:\n",
    "    `code`(str): Identification code for the chamber and hybridization round.\n",
    "        Example: 'C2H06' for Chamber 2, Hybridization round 6.\n",
    "    Retruns:\n",
    "    Dictionary \n",
    "    \n",
    "    \"\"\"\n",
    "    for i in F2.Targets:\n",
    "        if i['Code'] == code:\n",
    "            return i\n",
    "    \n",
    "    #Print error if code could be found\n",
    "    print('Could not retrieve target information for {}'.format(code))\n",
    "\n",
    "def create_info_dict(cur_exp, cur_stain, imaging_output_folder):\n",
    "    \"\"\"\n",
    "    Create and saves a information dictionary about the completed \n",
    "    hybridization round. Should be saved in the output folder of the imaging.\n",
    "    Input:\n",
    "    `cur_exp`(dict): Dictionary about the current cycle of the experiment.\n",
    "    `cur_stain`(int): Number of the chamber that is stained\n",
    "    `imaging_output_folder`(str): Path to the output folder of the imaging\n",
    "        software.\n",
    "    \n",
    "    \"\"\"\n",
    "    #Construct the round code of this chamber and hybridization round.\n",
    "    round_code = 'C{}H{}'.format(cur_stain, str(cur_exp['Current_cycle_{}'.format(cur_stain)]).zfill(2))\n",
    "    \n",
    "    #Get the stained targets\n",
    "    target_dict = get_targets(round_code)\n",
    "    \n",
    "    #Get the parameters of this experiment\n",
    "    info_dict = {\n",
    "        'round_code' : round_code,\n",
    "        'experiment_name': cur_exp['EXP_number_{}'.format(cur_stain)],\n",
    "        'chamber': 'chamber{}'.format(cur_stain),\n",
    "        'machine': F2.Parameters['Machine'],\n",
    "        'operator': F2.Parameters['Operator'],\n",
    "        'timestamp_robofish': time.strftime(\"%Y-%m-%d %H-%M-%S\"),\n",
    "        'hybridization_fname': 'Unknown-at-dict-generation-time',\n",
    "        'hybridization_number': int(cur_exp['Current_cycle_{}'.format(cur_stain)]),\n",
    "        'Hyb_time_A': F2.Parameters['Hyb_time_{}_A'.format(cur_stain)],\n",
    "        'Hyb_time_B': F2.Parameters['Hyb_time_{}_B'.format(cur_stain)],\n",
    "        'Hyb_time_C': F2.Parameters['Hyb_time_{}_C'.format(cur_stain)],\n",
    "        'Hybmix_volume': F2.Parameters['Hybmix_volume'],\n",
    "        'Imaging_temperature': F2.Parameters['Imaging_temperature'],\n",
    "        'Fluidic_Program': F2.Parameters['Program'],\n",
    "        'Readout_temperature': F2.Parameters['Readout_temperature'],\n",
    "        'Staining_temperature': F2.Parameters['Staining_temperature'],\n",
    "        'Start_date': F2.Parameters['Start_date_{}'.format(cur_stain)],\n",
    "        'Target_cycles': F2.Parameters['Target_cycles_{}'.format(cur_stain)],\n",
    "        'Sample': F2.Parameters['Sample_{}'.format(cur_stain)],\n",
    "        'Strain': F2.Parameters['Strain_{}'.format(cur_stain)],\n",
    "        'Age': F2.Parameters['Age_{}'.format(cur_stain)],\n",
    "        'Tissue': F2.Parameters['Tissue_{}'.format(cur_stain)],\n",
    "        'RegionImaged': F2.Parameters['RegionImaged_{}'.format(cur_stain)],\n",
    "        'StitchingChannel': F2.Parameters['StitchingChannel_{}'.format(cur_stain)],\n",
    "        'Overlapping_percentage': F2.Parameters['Overlapping_percentage_{}'.format(cur_stain)],\n",
    "        'channels': target_dict,\n",
    "        'roi': F2.Parameters['roi_{}'.format(cur_stain)],\n",
    "        'system_log': F2.L.logger_path,\n",
    "        #'temperature_log': F2.temp.temp_log_filename\n",
    "        }\n",
    "\n",
    "    #Merge dictionaries\n",
    "    #info_dict = {**info_dict, **target_dict}\n",
    "\n",
    "    info_file_name = 'TEMPORARY_{}_{}'.format( cur_exp['EXP_number_{}'.format(cur_stain)], round_code)\n",
    "    pickle.dump(info_dict, open('{}\\\\{}.pkl'.format(imaging_output_folder, info_file_name), 'wb'))\n",
    "\n",
    "def updateCurExp():\n",
    "    \"\"\"\n",
    "    Updates the internal dictionaries from the SQLite3 database and then updates\n",
    "    the cur_exp dictionary that the FISH2_program uses to run experiments.\n",
    "    \n",
    "    \"\"\"\n",
    "    F2.updateExperimentalParameters(F2.db_path, ignore_flags=True)\n",
    "    for k in cur_exp:\n",
    "        if k in F2.Parameters:\n",
    "            cur_exp[k] = F2.Parameters[k]\n",
    "    \n",
    "def placeholderFirst(chamber, rounds):\n",
    "    print('######### Placeholder FIRST')\n",
    "    #F2.extractDispenseSSC(200, chamber, padding=True)\n",
    "    print('Chamber: {}, Round: {}. Here is were the fluidic FIRST round happends.'.format(chamber, rounds))\n",
    "\n",
    "def placeholderRepeat(chamber, rounds):\n",
    "    print('######### Placeholder REPEAT')\n",
    "    #F2.extractDispenseSSC(200, chamber, padding=True)\n",
    "    print('Chamber: {}, Round: {}. Here is were the fluidic REPEAT round happends.'.format(chamber, rounds))\n",
    "\n",
    "#load data from F2\n",
    "cur_exp = {\n",
    "    'EXP_number_1': 'None',\n",
    "    'EXP_number_2': 'None',\n",
    "    'Location_EXP_1': 'None',\n",
    "    'Location_EXP_2': 'None',\n",
    "    'Target_cycles_1': 'None',\n",
    "    'Target_cycles_2': 'None',     \n",
    "    'Current_cycle_1': 'None',\n",
    "    'Current_cycle_2': 'None',\n",
    "    'Current_part_1': 'None',\n",
    "    'Current_part_2': 'None',\n",
    "    'Current_staining' : 'None'}\n",
    "\n",
    "updateCurExp()\n",
    "\n",
    "#check exp number to see if there are one or two experiments to run.\n",
    "if cur_exp['EXP_number_1'] != 'None' and cur_exp['EXP_number_2'] != 'None':\n",
    "    cur_exp['Current_staining'] = 1\n",
    "elif cur_exp['EXP_number_1'] != 'None':\n",
    "    cur_exp['Current_staining'] = 1\n",
    "elif cur_exp['EXP_number_2'] != 'None':\n",
    "    cur_exp['Current_staining'] = 2\n",
    "F2.L.logger.info('Start new experiment, start with chamber {}.'.format(cur_exp['Current_staining']))    \n",
    "\n",
    "\n",
    "########################################################\n",
    "## START FROM DIFFERENT CYCLE ##########################\n",
    "########################################################\n",
    "    #It will go to the next cycle, so if you enter 10 it will do round 11\n",
    "    #Current cycle of Chamber 1:\n",
    "cur_exp['Current_cycle_1'] = 7\n",
    "    #Current cycle of Chamber 2:\n",
    "#cur_exp['Current_cycle_2'] = 1\n",
    "    #Chamber to stain:\n",
    "cur_exp['Current_staining'] = 1\n",
    "########################################################\n",
    "    \n",
    "cur_stain = cur_exp['Current_staining']\n",
    "other = -cur_stain + 3  #Reverse 1-->2   2-->1\n",
    "\n",
    "\n",
    "while True:     \n",
    "    #Pause or exit if there are no experiments to perform\n",
    "    updateCurExp()\n",
    "    if cur_exp['EXP_number_1'] == 'None' and cur_exp['EXP_number_2'] == 'None':\n",
    "        print('No experiments detected to perform.')\n",
    "        print('You can resume after preparing a new experiment or stop the program.')\n",
    "        while True:\n",
    "            resume = input('\\nEnter \"Resume\" or \"Stop\" ')\n",
    "            if resume.lower() == 'resume' or resume.lower() == 'stop':\n",
    "                break\n",
    "            else:\n",
    "                print('Invalid input: {}. Choose: \"Resume\" or \"Stop\"'.format(resume))\n",
    "        \n",
    "        if resume.lower() == 'resume':\n",
    "            input('\\nPress Enter when ready to resume staining and imaging...')\n",
    "            #check exp number to see if there are one or two experiments to run.\n",
    "            if cur_exp['EXP_number_1'] != 'None' and cur_exp['EXP_number_2'] != 'None':\n",
    "                cur_exp['Current_staining'] = 1\n",
    "            elif cur_exp['EXP_number_1'] != 'None':\n",
    "                cur_exp['Current_staining'] = 1\n",
    "            elif cur_exp['EXP_number_2'] != 'None':\n",
    "                cur_exp['Current_staining'] = 2\n",
    "            F2.L.logger.info('Start new experiment, start with chamber {}.'.format(cur_exp['Current_staining']))    \n",
    "\n",
    "            cur_stain = cur_exp['Current_staining']\n",
    "            other = -cur_stain + 3  #Reverse 1-->2   2-->1\n",
    "            \n",
    "        elif resume.lower() == 'stop':\n",
    "            F2.L.logger.info('FISH2 program stopped by user')\n",
    "            break\n",
    "    \n",
    "#Does Current_stain exist:\n",
    "    updateCurExp()\n",
    "    #No, Current_stain does not exist, Only Other is being stained and imaged:\n",
    "    if cur_exp['EXP_number_{}'.format(cur_stain)] == 'None':\n",
    "        F2.L.logger.info('No new experiment detected in Chamber{}, waiting untill imaging of Chamber{} is finished'.format(cur_stain, other))\n",
    "        print('')\n",
    "        #Wait untill Other is finished with imaging\n",
    "        F2.waitImaging(start_imaging_file_path)\n",
    "        F2.L.logger.info('Imaging Experiment: {} Cycle: {} done.\\n'.format(cur_exp['EXP_number_{}'.format(other)], cur_exp['Current_cycle_{}'.format(other)]))\n",
    "        print('')\n",
    "        #FLIP\n",
    "        cur_exp['Current_staining'] = other\n",
    "        cur_stain = cur_exp['Current_staining']\n",
    "        other = -cur_stain + 3  #Reverse 1-->2   2-->1\n",
    "    \n",
    "    #Yes, Current_stain exists:\n",
    "    else:\n",
    "    #Is Current_stain a new experiment:\n",
    "        #Yes, new experiment:\n",
    "        if cur_exp['Current_cycle_{}'.format(cur_stain)] == 'None':\n",
    "            cur_exp['Current_cycle_{}'.format(cur_stain)] = 1\n",
    "            #Logging\n",
    "            F2.L.logger.info('_____')\n",
    "            F2.L.logger.info('STARTING {}, CYCLE: {}'.format(cur_exp['EXP_number_{}'.format(cur_stain)], cur_exp['Current_cycle_{}'.format(cur_stain)]))\n",
    "            print('')\n",
    "            #################################################################\n",
    "            #Perform First Part of experiment\n",
    "            #firstPart_indirect('Chamber{}'.format(cur_stain), cur_exp['Current_cycle_{}'.format(cur_stain)])\n",
    "            #firstPart('Chamber{}'.format(cur_stain), cur_exp['Current_cycle_{}'.format(cur_stain)])\n",
    "            #placeholderFirst('Chamber{}'.format(cur_stain), cur_exp['Current_cycle_{}'.format(cur_stain)])\n",
    "            EEL_readout('Chamber{}'.format(cur_stain), cur_exp['Current_cycle_{}'.format(cur_stain)])\n",
    "            #################################################################\n",
    "            #Write info file for this round\n",
    "            create_info_dict(cur_exp, cur_stain, imaging_output_folder)\n",
    "        \n",
    "        #No, old experiment:\n",
    "        else:\n",
    "            cur_exp['Current_cycle_{}'.format(cur_stain)] += 1\n",
    "            #Logging\n",
    "            F2.L.logger.info(' ')\n",
    "            F2.L.logger.info('_____')\n",
    "            F2.L.logger.info('STARTING {}, CYCLE: {}'.format(cur_exp['EXP_number_{}'.format(cur_stain)], cur_exp['Current_cycle_{}'.format(cur_stain)]))\n",
    "            print('')\n",
    "            #################################################################\n",
    "            #Perform Repeat Part of experiment\n",
    "            #repeatPart_indirect('Chamber{}'.format(cur_stain), cur_exp['Current_cycle_{}'.format(cur_stain)])\n",
    "            #repeatPart('Chamber{}'.format(cur_stain), cur_exp['Current_cycle_{}'.format(cur_stain)])\n",
    "            EEL_readout_repeat('Chamber{}'.format(cur_stain), cur_exp['Current_cycle_{}'.format(cur_stain)])\n",
    "            #placeholderRepeat('Chamber{}'.format(cur_stain), cur_exp['Current_cycle_{}'.format(cur_stain)])\n",
    "            #################################################################\n",
    "            #Write info file for this round\n",
    "            create_info_dict(cur_exp, cur_stain, imaging_output_folder)       \n",
    "        \n",
    "        #Wrappup Current_stain? If all stainings are done, but the last imaging has still to be performed.\n",
    "        #Yes, wrapup:\n",
    "        updateCurExp()\n",
    "        if cur_exp['Current_cycle_{}'.format(cur_stain)] >= cur_exp['Target_cycles_{}'.format(cur_stain)]:\n",
    "            #Start the last imaging\n",
    "            F2.L.logger.info('Start Imaging of Experiment: {} Cycle: {}'.format(cur_exp['EXP_number_{}'.format(cur_stain)], cur_exp['Current_cycle_{}'.format(cur_stain)]))\n",
    "            F2.startImaging('Chamber{}'.format(cur_stain), start_imaging_file_path)\n",
    "            #Logging\n",
    "            F2.L.logger.info('FINISHED {}, Removing from database and FISH_System_datafile.yalm'.format(cur_exp['EXP_number_{}'.format(cur_stain)]))\n",
    "            wrappup = True\n",
    "            if remove_experiment == True:    \n",
    "                #Notify user\n",
    "                short_message = '{} Finished'.format(cur_exp['EXP_number_{}'.format(cur_stain)])\n",
    "                long_message = '''Full experiment completed. \n",
    "                All experimental info will be removed from database and FISH_Sytem_datafile.yaml\\n\n",
    "                You can now add a new EXP_{} to the FISH_Sytem_datafile.yaml, via the user program.'''.format(cur_stain)\n",
    "                F2.push(short_message, long_message)\n",
    "                print(short_message + '\\n' + long_message + '\\n')\n",
    "                #Remove experiment from database and FISH_System_datafile\n",
    "                perif.removeExperiment(F2.db_path, cur_exp['EXP_number_{}'.format(cur_stain)])\n",
    "                cur_exp['Current_cycle_{}'.format(cur_stain)] = 0\n",
    "                cur_exp['Current_part_{}'.format(cur_stain)] = 'None' \n",
    "            else:\n",
    "                #Notify user\n",
    "                short_message = '{} Finished'.format(cur_exp['EXP_number_{}'.format(cur_stain)])\n",
    "                long_message = '''Full experiment completed. \n",
    "                Ready to start a new experiment. Starting secure sleep'''.format(cur_stain)\n",
    "                F2.push(short_message, long_message)\n",
    "                print(short_message + '\\n' + long_message + '\\n')\n",
    "                F2.secure_sleep(10*24*60*60)\n",
    "\n",
    "        #Not done yet, more cycles to go:\n",
    "        else:\n",
    "            wrappup = False\n",
    "\n",
    "        #Wait Imaging Other\n",
    "        F2.waitImaging(start_imaging_file_path) \n",
    "        F2.L.logger.info('Imaging Experiment: {} Cycle: {} done.'.format(cur_exp['EXP_number_{}'.format(other)], cur_exp['Current_cycle_{}'.format(other)]))           \n",
    "\n",
    "        #Check new experiment flag, For new experiment Other\n",
    "        #Give user oportunity to prepare imaging Other.\n",
    "        if perif.returnDictDB(db_path, 'Flags')[0]['New_EXP_flag_{}'.format(other)] == 1:\n",
    "            short_messgage = 'Prepare imaging of {}'.format(cur_exp['EXP_number_{}'.format(other)])\n",
    "            long_message = '''Reply with \"Pause\" if you want to prepare the imaging now (set ROI, focusing etc.).\\n\n",
    "            There will be another oportunity after the imaging of {}\\n\n",
    "            Reply: \"Pause\", reply time 10min'''.format(cur_exp['EXP_number_{}'.format(cur_stain)])\n",
    "            F2.push(short_message, long_message)\n",
    "            print(short_message + '\\n' + long_message + '\\n')\n",
    "            print('\\nYou can now prepare the imaging of {}'.format(cur_exp['EXP_number_{}'.format(other)]))\n",
    "\n",
    "            #10 minutes reply time\n",
    "            time.sleep(60 * 10) \n",
    "\n",
    "            if perif.get_push(F2.Parameters['Operator']).lower() == 'pause':\n",
    "                short_message = 'Experiment paused'\n",
    "                long_message = 'Pause untill user input. Prepare imaging now (set ROI, focusing etc.).'\n",
    "                F2.push(short_message, long_message)\n",
    "                print('\\nExperiment paused before imaging {} so that user can prepare the imaging of {}'.format(cur_exp['EXP_number_{}'.format(cur_stain)], cur_exp['EXP_number_{}'.format(other)]))\n",
    "                input('Press Enter to continue when ready...')\n",
    "                perif.removeFlagDB(F2.db_path, 'New_EXP_flag_{}'.format(other))\n",
    "                updateCurExp()\n",
    "            else:\n",
    "                short_messgage = 'Continuing'\n",
    "                long_message = 'Experiment not paused, continuing with imaging of {}'.format(cur_exp['EXP_number_{}'.format(cur_stain)])\n",
    "                F2.push(short_message, long_message)\n",
    "                print(short_message + '\\n' + long_message + '\\n')\n",
    "                updateCurExp()\n",
    "\n",
    "        #Before imaging Current_stain check if imaging has been set for Current_stain\n",
    "        if perif.returnDictDB(db_path, 'Flags')[0]['New_EXP_flag_{}'.format(cur_stain)] == 1:\n",
    "            while True:\n",
    "                short_messgage = 'Prepare imaging of {}'.format(cur_exp['EXP_number_{}'.format(cur_stain)])\n",
    "                long_message = '''Prepare imaging of {} (set ROI, focusing etc.).\\n\n",
    "                If you already did this reply with: \"Continue\". Relpy time 10min.'''.format(cur_exp['EXP_number_{}'.format(cur_stain)])\n",
    "                F2.push(short_message, long_message)\n",
    "                print(short_message + '\\n' + long_message + '\\n')\n",
    "                print('If you can not sent push messages: Remove \"New_EXP_flag_{}\" from the user program'.format(cur_stain))\n",
    "                #10 minutes reply time\n",
    "                time.sleep(60 * 10)\n",
    "\n",
    "                if perif.get_push(F2.Parameters['Operator']).lower() == 'continue' or perif.returnDictDB(db_path, 'Flags')[0]['New_EXP_flag_{}'.format(cur_stain)] == 0:\n",
    "                    updateCurExp()\n",
    "                    break\n",
    "        \n",
    "        \n",
    "        #Start imaging of Current_Stain, will wait untill the imaging of the other chamber has finished.\n",
    "        F2.L.logger.info('Start Imaging of Experiment: {} Cycle: {}'.format(cur_exp['EXP_number_{}'.format(cur_stain)], cur_exp['Current_cycle_{}'.format(cur_stain)]))\n",
    "        F2.startImaging('Chamber{}'.format(cur_stain), start_imaging_file_path)\n",
    "\n",
    "        \n",
    "        #FLIP the conditions of the 2 chambers\n",
    "        cur_exp['Current_staining'] = other\n",
    "        cur_stain = cur_exp['Current_staining']\n",
    "        other = -cur_stain + 3  #Reverse 1-->2   2-->1\n",
    "    "
   ]
  },
  {
   "cell_type": "code",
   "execution_count": 3,
   "metadata": {},
   "outputs": [],
   "source": [
    "a,b,c = [1,2,3]"
   ]
  },
  {
   "cell_type": "code",
   "execution_count": 5,
   "metadata": {},
   "outputs": [
    {
     "data": {
      "text/plain": [
       "3"
      ]
     },
     "execution_count": 5,
     "metadata": {},
     "output_type": "execute_result"
    }
   ],
   "source": [
    "c"
   ]
  },
  {
   "cell_type": "code",
   "execution_count": null,
   "metadata": {},
   "outputs": [],
   "source": []
  },
  {
   "cell_type": "code",
   "execution_count": null,
   "metadata": {},
   "outputs": [],
   "source": []
  },
  {
   "cell_type": "code",
   "execution_count": null,
   "metadata": {},
   "outputs": [],
   "source": []
  },
  {
   "cell_type": "code",
   "execution_count": null,
   "metadata": {},
   "outputs": [],
   "source": []
  },
  {
   "cell_type": "code",
   "execution_count": null,
   "metadata": {},
   "outputs": [],
   "source": []
  },
  {
   "cell_type": "code",
   "execution_count": null,
   "metadata": {},
   "outputs": [],
   "source": []
  },
  {
   "cell_type": "code",
   "execution_count": null,
   "metadata": {},
   "outputs": [],
   "source": []
  },
  {
   "cell_type": "code",
   "execution_count": null,
   "metadata": {},
   "outputs": [],
   "source": []
  },
  {
   "cell_type": "code",
   "execution_count": 24,
   "metadata": {},
   "outputs": [
    {
     "ename": "KeyboardInterrupt",
     "evalue": "",
     "output_type": "error",
     "traceback": [
      "\u001b[1;31m---------------------------------------------------------------------------\u001b[0m",
      "\u001b[1;31mKeyboardInterrupt\u001b[0m                         Traceback (most recent call last)",
      "\u001b[1;32m<ipython-input-24-44603953389d>\u001b[0m in \u001b[0;36m<module>\u001b[1;34m\u001b[0m\n\u001b[1;32m----> 1\u001b[1;33m \u001b[0mF2\u001b[0m\u001b[1;33m.\u001b[0m\u001b[0msecure_sleep\u001b[0m\u001b[1;33m(\u001b[0m\u001b[1;36m10\u001b[0m\u001b[1;33m*\u001b[0m\u001b[1;36m24\u001b[0m\u001b[1;33m*\u001b[0m\u001b[1;36m60\u001b[0m\u001b[1;33m*\u001b[0m\u001b[1;36m60\u001b[0m\u001b[1;33m)\u001b[0m\u001b[1;33m\u001b[0m\u001b[1;33m\u001b[0m\u001b[0m\n\u001b[0m",
      "\u001b[1;32m~\\Desktop\\ROBOFISH\\FISH2_functions.py\u001b[0m in \u001b[0;36msecure_sleep\u001b[1;34m(self, sec, period, alarm_room_temperature, temperature_range, number_of_messages, verbose)\u001b[0m\n\u001b[0;32m   1031\u001b[0m \u001b[1;33m\u001b[0m\u001b[0m\n\u001b[0;32m   1032\u001b[0m                 \u001b[1;32mif\u001b[0m \u001b[0mremain_sleep\u001b[0m\u001b[1;33m>\u001b[0m\u001b[1;36m0\u001b[0m\u001b[1;33m:\u001b[0m\u001b[1;33m\u001b[0m\u001b[1;33m\u001b[0m\u001b[0m\n\u001b[1;32m-> 1033\u001b[1;33m                     \u001b[0mtime\u001b[0m\u001b[1;33m.\u001b[0m\u001b[0msleep\u001b[0m\u001b[1;33m(\u001b[0m\u001b[0mremain_sleep\u001b[0m\u001b[1;33m)\u001b[0m\u001b[1;33m\u001b[0m\u001b[1;33m\u001b[0m\u001b[0m\n\u001b[0m\u001b[0;32m   1034\u001b[0m                 \u001b[1;32melse\u001b[0m\u001b[1;33m:\u001b[0m\u001b[1;33m\u001b[0m\u001b[1;33m\u001b[0m\u001b[0m\n\u001b[0;32m   1035\u001b[0m                     \u001b[0msec\u001b[0m \u001b[1;33m+=\u001b[0m \u001b[0mremain_sleep\u001b[0m\u001b[1;33m\u001b[0m\u001b[1;33m\u001b[0m\u001b[0m\n",
      "\u001b[1;31mKeyboardInterrupt\u001b[0m: "
     ]
    }
   ],
   "source": [
    "F2.secure_sleep(10*24*60*60)"
   ]
  },
  {
   "cell_type": "code",
   "execution_count": 2,
   "metadata": {},
   "outputs": [
    {
     "ename": "NameError",
     "evalue": "name 'F2' is not defined",
     "output_type": "error",
     "traceback": [
      "\u001b[1;31m---------------------------------------------------------------------------\u001b[0m",
      "\u001b[1;31mNameError\u001b[0m                                 Traceback (most recent call last)",
      "\u001b[1;32m<ipython-input-2-a48f1540959a>\u001b[0m in \u001b[0;36m<module>\u001b[1;34m\u001b[0m\n\u001b[1;32m----> 1\u001b[1;33m \u001b[0mF2\u001b[0m\u001b[1;33m.\u001b[0m\u001b[0mcleanSystem\u001b[0m\u001b[1;33m(\u001b[0m\u001b[1;33m)\u001b[0m\u001b[1;33m\u001b[0m\u001b[1;33m\u001b[0m\u001b[0m\n\u001b[0m\u001b[0;32m      2\u001b[0m \u001b[0mF2\u001b[0m\u001b[1;33m.\u001b[0m\u001b[0mcleanHybmixTube\u001b[0m\u001b[1;33m(\u001b[0m\u001b[1;34m'HYB01'\u001b[0m\u001b[1;33m,\u001b[0m\u001b[1;36m3\u001b[0m\u001b[1;33m)\u001b[0m\u001b[1;33m\u001b[0m\u001b[1;33m\u001b[0m\u001b[0m\n\u001b[0;32m      3\u001b[0m \u001b[0mF2\u001b[0m\u001b[1;33m.\u001b[0m\u001b[0mcleanHybmixTube\u001b[0m\u001b[1;33m(\u001b[0m\u001b[1;34m'HYB02'\u001b[0m\u001b[1;33m,\u001b[0m\u001b[1;36m3\u001b[0m\u001b[1;33m)\u001b[0m\u001b[1;33m\u001b[0m\u001b[1;33m\u001b[0m\u001b[0m\n\u001b[0;32m      4\u001b[0m \u001b[0mF2\u001b[0m\u001b[1;33m.\u001b[0m\u001b[0mcleanHybmixTube\u001b[0m\u001b[1;33m(\u001b[0m\u001b[1;34m'HYB03'\u001b[0m\u001b[1;33m,\u001b[0m\u001b[1;36m3\u001b[0m\u001b[1;33m)\u001b[0m\u001b[1;33m\u001b[0m\u001b[1;33m\u001b[0m\u001b[0m\n\u001b[0;32m      5\u001b[0m \u001b[0mF2\u001b[0m\u001b[1;33m.\u001b[0m\u001b[0mcleanHybmixTube\u001b[0m\u001b[1;33m(\u001b[0m\u001b[1;34m'HYB04'\u001b[0m\u001b[1;33m,\u001b[0m\u001b[1;36m3\u001b[0m\u001b[1;33m)\u001b[0m\u001b[1;33m\u001b[0m\u001b[1;33m\u001b[0m\u001b[0m\n",
      "\u001b[1;31mNameError\u001b[0m: name 'F2' is not defined"
     ]
    }
   ],
   "source": [
    "F2.cleanSystem()\n",
    "F2.cleanHybmixTube('HYB01',3)\n",
    "F2.cleanHybmixTube('HYB02',3)\n",
    "F2.cleanHybmixTube('HYB03',3)\n",
    "F2.cleanHybmixTube('HYB04',3)\n",
    "F2.cleanHybmixTube('HYB05',3)\n",
    "F2.cleanHybmixTube('HYB06',3)\n",
    "F2.cleanHybmixTube('HYB07',3)\n",
    "F2.cleanHybmixTube('HYB08',3)\n",
    "F2.cleanHybmixTube('HYB09',3)\n",
    "F2.cleanHybmixTube('HYB10',3)"
   ]
  },
  {
   "cell_type": "code",
   "execution_count": null,
   "metadata": {},
   "outputs": [],
   "source": []
  },
  {
   "cell_type": "code",
   "execution_count": null,
   "metadata": {},
   "outputs": [],
   "source": []
  },
  {
   "cell_type": "code",
   "execution_count": null,
   "metadata": {},
   "outputs": [],
   "source": []
  },
  {
   "cell_type": "code",
   "execution_count": null,
   "metadata": {},
   "outputs": [],
   "source": []
  },
  {
   "cell_type": "code",
   "execution_count": null,
   "metadata": {},
   "outputs": [],
   "source": []
  },
  {
   "cell_type": "code",
   "execution_count": null,
   "metadata": {},
   "outputs": [],
   "source": []
  },
  {
   "cell_type": "code",
   "execution_count": null,
   "metadata": {},
   "outputs": [],
   "source": []
  },
  {
   "cell_type": "markdown",
   "metadata": {},
   "source": [
    "# ---------------------------------------------------------------------  \n",
    "  \n"
   ]
  }
 ],
 "metadata": {
  "anaconda-cloud": {},
  "kernelspec": {
   "display_name": "Python 3",
   "language": "python",
   "name": "python3"
  },
  "language_info": {
   "codemirror_mode": {
    "name": "ipython",
    "version": 3
   },
   "file_extension": ".py",
   "mimetype": "text/x-python",
   "name": "python",
   "nbconvert_exporter": "python",
   "pygments_lexer": "ipython3",
   "version": "3.8.10"
  },
  "toc": {
   "colors": {
    "hover_highlight": "#DAA520",
    "running_highlight": "#FF0000",
    "selected_highlight": "#FFD700"
   },
   "moveMenuLeft": true,
   "nav_menu": {
    "height": "66px",
    "width": "252px"
   },
   "navigate_menu": true,
   "number_sections": true,
   "sideBar": false,
   "threshold": 4,
   "toc_cell": false,
   "toc_position": {
    "height": "452px",
    "left": "1px",
    "right": "1533.47px",
    "top": "105px",
    "width": "212px"
   },
   "toc_section_display": "none",
   "toc_window_display": true
  }
 },
 "nbformat": 4,
 "nbformat_minor": 4
}
